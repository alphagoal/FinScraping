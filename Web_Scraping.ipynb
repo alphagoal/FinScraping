{
 "cells": [
  {
   "cell_type": "markdown",
   "metadata": {},
   "source": [
    "## Web Scraping Demo"
   ]
  },
  {
   "cell_type": "markdown",
   "metadata": {},
   "source": [
    "#### Overview:\n",
    "- HTTP Introduction (PPT)\n",
    "- Request method\n",
    "- Beautiful Soup method\n",
    "- Selenium method\n",
    "- Review of China Spread Scraping Tool"
   ]
  },
  {
   "cell_type": "markdown",
   "metadata": {},
   "source": [
    "### 1. Request Method - Thai BMZ Zero Coupon Yield Curve"
   ]
  },
  {
   "cell_type": "code",
   "execution_count": 2,
   "metadata": {},
   "outputs": [],
   "source": [
    "#Step 1 Import Packages:\n",
    "import requests\n",
    "from bs4 import BeautifulSoup as soup\n"
   ]
  },
  {
   "cell_type": "markdown",
   "metadata": {},
   "source": [
    "##### Inspect URL"
   ]
  },
  {
   "cell_type": "code",
   "execution_count": 3,
   "metadata": {},
   "outputs": [
    {
     "name": "stdout",
     "output_type": "stream",
     "text": [
      "<Response [200]>\n"
     ]
    }
   ],
   "source": [
    "url = 'http://www.thaibma.or.th/yieldcurve/zero/2024-06-11'\n",
    "\n",
    "response = requests.get(url)\n",
    "print(response)\n",
    "if response.status_code!=200:\n",
    "    print(f\"Non-success status code: {response.status_code}\")"
   ]
  },
  {
   "cell_type": "code",
   "execution_count": 4,
   "metadata": {},
   "outputs": [
    {
     "data": {
      "text/plain": [
       "{'Curve': [{'Asof': '2024-06-11T00:00:00', 'X': 0.076712, 'Y': 2.308389},\n",
       "  {'Asof': '2024-06-11T00:00:00', 'X': 0.249315, 'Y': 2.323624},\n",
       "  {'Asof': '2024-06-11T00:00:00', 'X': 0.49863, 'Y': 2.346552},\n",
       "  {'Asof': '2024-06-11T00:00:00', 'X': 1.0, 'Y': 2.351496},\n",
       "  {'Asof': '2024-06-11T00:00:00', 'X': 2.0, 'Y': 2.390095},\n",
       "  {'Asof': '2024-06-11T00:00:00', 'X': 3.0, 'Y': 2.412741},\n",
       "  {'Asof': '2024-06-11T00:00:00', 'X': 4.0, 'Y': 2.451834},\n",
       "  {'Asof': '2024-06-11T00:00:00', 'X': 5.0, 'Y': 2.541074},\n",
       "  {'Asof': '2024-06-11T00:00:00', 'X': 6.0, 'Y': 2.592939},\n",
       "  {'Asof': '2024-06-11T00:00:00', 'X': 7.0, 'Y': 2.673059},\n",
       "  {'Asof': '2024-06-11T00:00:00', 'X': 8.0, 'Y': 2.77551},\n",
       "  {'Asof': '2024-06-11T00:00:00', 'X': 9.0, 'Y': 2.817007},\n",
       "  {'Asof': '2024-06-11T00:00:00', 'X': 10.0, 'Y': 2.827698},\n",
       "  {'Asof': '2024-06-11T00:00:00', 'X': 11.0, 'Y': 2.880431},\n",
       "  {'Asof': '2024-06-11T00:00:00', 'X': 12.0, 'Y': 2.974356},\n",
       "  {'Asof': '2024-06-11T00:00:00', 'X': 13.0, 'Y': 3.086842},\n",
       "  {'Asof': '2024-06-11T00:00:00', 'X': 14.0, 'Y': 3.124374},\n",
       "  {'Asof': '2024-06-11T00:00:00', 'X': 15.0, 'Y': 3.152792},\n",
       "  {'Asof': '2024-06-11T00:00:00', 'X': 16.0, 'Y': 3.175297},\n",
       "  {'Asof': '2024-06-11T00:00:00', 'X': 17.0, 'Y': 3.205412},\n",
       "  {'Asof': '2024-06-11T00:00:00', 'X': 18.0, 'Y': 3.256671},\n",
       "  {'Asof': '2024-06-11T00:00:00', 'X': 19.0, 'Y': 3.466762},\n",
       "  {'Asof': '2024-06-11T00:00:00', 'X': 20.0, 'Y': 3.540958},\n",
       "  {'Asof': '2024-06-11T00:00:00', 'X': 21.0, 'Y': 3.589332},\n",
       "  {'Asof': '2024-06-11T00:00:00', 'X': 22.0, 'Y': 3.607259},\n",
       "  {'Asof': '2024-06-11T00:00:00', 'X': 23.0, 'Y': 3.591665},\n",
       "  {'Asof': '2024-06-11T00:00:00', 'X': 24.0, 'Y': 3.561101},\n",
       "  {'Asof': '2024-06-11T00:00:00', 'X': 25.0, 'Y': 3.543735},\n",
       "  {'Asof': '2024-06-11T00:00:00', 'X': 26.0, 'Y': 3.560367},\n",
       "  {'Asof': '2024-06-11T00:00:00', 'X': 27.0, 'Y': 3.602615},\n",
       "  {'Asof': '2024-06-11T00:00:00', 'X': 28.0, 'Y': 3.654965},\n",
       "  {'Asof': '2024-06-11T00:00:00', 'X': 29.0, 'Y': 3.723883},\n",
       "  {'Asof': '2024-06-11T00:00:00', 'X': 30.0, 'Y': 3.814912},\n",
       "  {'Asof': '2024-06-11T00:00:00', 'X': 31.0, 'Y': 3.906053},\n",
       "  {'Asof': '2024-06-11T00:00:00', 'X': 32.0, 'Y': 3.999413},\n",
       "  {'Asof': '2024-06-11T00:00:00', 'X': 33.0, 'Y': 4.106242},\n",
       "  {'Asof': '2024-06-11T00:00:00', 'X': 34.0, 'Y': 4.213164},\n",
       "  {'Asof': '2024-06-11T00:00:00', 'X': 35.0, 'Y': 4.30677},\n",
       "  {'Asof': '2024-06-11T00:00:00', 'X': 36.0, 'Y': 4.373651},\n",
       "  {'Asof': '2024-06-11T00:00:00', 'X': 37.0, 'Y': 4.400399},\n",
       "  {'Asof': '2024-06-11T00:00:00', 'X': 38.0, 'Y': 4.388229},\n",
       "  {'Asof': '2024-06-11T00:00:00', 'X': 39.0, 'Y': 4.357256},\n",
       "  {'Asof': '2024-06-11T00:00:00', 'X': 40.0, 'Y': 4.319677},\n",
       "  {'Asof': '2024-06-11T00:00:00', 'X': 41.0, 'Y': 4.287669},\n",
       "  {'Asof': '2024-06-11T00:00:00', 'X': 42.0, 'Y': 4.273412},\n",
       "  {'Asof': '2024-06-11T00:00:00', 'X': 43.0, 'Y': 4.314938},\n",
       "  {'Asof': '2024-06-11T00:00:00', 'X': 44.0, 'Y': 4.358863},\n",
       "  {'Asof': '2024-06-11T00:00:00', 'X': 45.0, 'Y': 4.402839},\n",
       "  {'Asof': '2024-06-11T00:00:00', 'X': 46.0, 'Y': 4.446978},\n",
       "  {'Asof': '2024-06-11T00:00:00', 'X': 47.0, 'Y': 4.491311},\n",
       "  {'Asof': '2024-06-11T00:00:00', 'X': 48.0, 'Y': 4.535872}],\n",
       " 'Stat': [{'Asof': '2024-06-11T00:00:00',\n",
       "   'Symbol': 'T-BILL1M',\n",
       "   'MaturityDate': None,\n",
       "   'Ttm': 0.076712328767123,\n",
       "   'Yield': 2.29522,\n",
       "   'Change': 0.0878,\n",
       "   'Spread': 5.9171555555556,\n",
       "   'GroupOrder': 1,\n",
       "   'IsSynthetic': False,\n",
       "   'IsPlot': True,\n",
       "   'IsBenchmark': False},\n",
       "  {'Asof': '2024-06-11T00:00:00',\n",
       "   'Symbol': 'T-BILL3M',\n",
       "   'MaturityDate': None,\n",
       "   'Ttm': 0.249315068493151,\n",
       "   'Yield': 2.310281,\n",
       "   'Change': -0.4839,\n",
       "   'Spread': 7.1377555555556,\n",
       "   'GroupOrder': 1,\n",
       "   'IsSynthetic': False,\n",
       "   'IsPlot': True,\n",
       "   'IsBenchmark': False},\n",
       "  {'Asof': '2024-06-11T00:00:00',\n",
       "   'Symbol': 'T-BILL6M',\n",
       "   'MaturityDate': None,\n",
       "   'Ttm': 0.498630136986301,\n",
       "   'Yield': 2.332945,\n",
       "   'Change': 0.021,\n",
       "   'Spread': 6.1349555555556,\n",
       "   'GroupOrder': 1,\n",
       "   'IsSynthetic': False,\n",
       "   'IsPlot': True,\n",
       "   'IsBenchmark': False},\n",
       "  {'Asof': '2024-06-11T00:00:00',\n",
       "   'Symbol': 'T-BILL1Y',\n",
       "   'MaturityDate': None,\n",
       "   'Ttm': 1.0,\n",
       "   'Yield': 2.337832,\n",
       "   'Change': -0.0079,\n",
       "   'Spread': 6.2295555555556,\n",
       "   'GroupOrder': 1,\n",
       "   'IsSynthetic': False,\n",
       "   'IsPlot': True,\n",
       "   'IsBenchmark': False},\n",
       "  {'Asof': '2024-06-11T00:00:00',\n",
       "   'Symbol': 'LB256A',\n",
       "   'MaturityDate': '2025-06-17T00:00:00',\n",
       "   'Ttm': 1.016438356164383,\n",
       "   'Yield': 2.372139,\n",
       "   'Change': -0.711233,\n",
       "   'Spread': 3.2860222222222,\n",
       "   'GroupOrder': 2,\n",
       "   'IsSynthetic': False,\n",
       "   'IsPlot': True,\n",
       "   'IsBenchmark': False},\n",
       "  {'Asof': '2024-06-11T00:00:00',\n",
       "   'Symbol': 'LB25DA',\n",
       "   'MaturityDate': '2025-12-12T00:00:00',\n",
       "   'Ttm': 1.504109589041096,\n",
       "   'Yield': 2.379403333333333,\n",
       "   'Change': -0.402267,\n",
       "   'Spread': 3.3907111111111,\n",
       "   'GroupOrder': 2,\n",
       "   'IsSynthetic': False,\n",
       "   'IsPlot': True,\n",
       "   'IsBenchmark': False},\n",
       "  {'Asof': '2024-06-11T00:00:00',\n",
       "   'Symbol': 'LB266A',\n",
       "   'MaturityDate': '2026-06-17T00:00:00',\n",
       "   'Ttm': 2.016438356164384,\n",
       "   'Yield': 2.375679,\n",
       "   'Change': -0.765433,\n",
       "   'Spread': 3.5077111111111,\n",
       "   'GroupOrder': 2,\n",
       "   'IsSynthetic': False,\n",
       "   'IsPlot': True,\n",
       "   'IsBenchmark': False},\n",
       "  {'Asof': '2024-06-11T00:00:00',\n",
       "   'Symbol': 'LB267A',\n",
       "   'MaturityDate': '2026-07-07T00:00:00',\n",
       "   'Ttm': 2.071232876712329,\n",
       "   'Yield': 2.375359,\n",
       "   'Change': -0.751,\n",
       "   'Spread': 3.7179,\n",
       "   'GroupOrder': 2,\n",
       "   'IsSynthetic': True,\n",
       "   'IsPlot': True,\n",
       "   'IsBenchmark': False},\n",
       "  {'Asof': '2024-06-11T00:00:00',\n",
       "   'Symbol': 'LB26DA',\n",
       "   'MaturityDate': '2026-12-17T00:00:00',\n",
       "   'Ttm': 2.517808219178082,\n",
       "   'Yield': 2.378624666666666,\n",
       "   'Change': -0.629778,\n",
       "   'Spread': 3.0397333333333,\n",
       "   'GroupOrder': 2,\n",
       "   'IsSynthetic': False,\n",
       "   'IsPlot': True,\n",
       "   'IsBenchmark': False},\n",
       "  {'Asof': '2024-06-11T00:00:00',\n",
       "   'Symbol': 'LB273A',\n",
       "   'MaturityDate': '2027-03-17T00:00:00',\n",
       "   'Ttm': 2.764383561643835,\n",
       "   'Yield': 2.380617333333333,\n",
       "   'Change': -1.216044,\n",
       "   'Spread': 2.3068666666667,\n",
       "   'GroupOrder': 2,\n",
       "   'IsSynthetic': False,\n",
       "   'IsPlot': True,\n",
       "   'IsBenchmark': False},\n",
       "  {'Asof': '2024-06-11T00:00:00',\n",
       "   'Symbol': 'LB276A',\n",
       "   'MaturityDate': '2027-06-17T00:00:00',\n",
       "   'Ttm': 3.016438356164384,\n",
       "   'Yield': 2.398333555555555,\n",
       "   'Change': -0.527867,\n",
       "   'Spread': 3.1290888888889,\n",
       "   'GroupOrder': 2,\n",
       "   'IsSynthetic': False,\n",
       "   'IsPlot': True,\n",
       "   'IsBenchmark': False},\n",
       "  {'Asof': '2024-06-11T00:00:00',\n",
       "   'Symbol': 'LB27NA',\n",
       "   'MaturityDate': '2027-11-17T00:00:00',\n",
       "   'Ttm': 3.435616438356164,\n",
       "   'Yield': 2.400864222222222,\n",
       "   'Change': -0.913578,\n",
       "   'Spread': 2.8415555555556,\n",
       "   'GroupOrder': 2,\n",
       "   'IsSynthetic': False,\n",
       "   'IsPlot': True,\n",
       "   'IsBenchmark': True},\n",
       "  {'Asof': '2024-06-11T00:00:00',\n",
       "   'Symbol': 'LB27DA',\n",
       "   'MaturityDate': '2027-12-17T00:00:00',\n",
       "   'Ttm': 3.517808219178082,\n",
       "   'Yield': 2.403471,\n",
       "   'Change': -0.9634,\n",
       "   'Spread': 2.6561,\n",
       "   'GroupOrder': 2,\n",
       "   'IsSynthetic': True,\n",
       "   'IsPlot': True,\n",
       "   'IsBenchmark': False},\n",
       "  {'Asof': '2024-06-11T00:00:00',\n",
       "   'Symbol': 'LB283A',\n",
       "   'MaturityDate': '2028-03-13T00:00:00',\n",
       "   'Ttm': 3.756164383561644,\n",
       "   'Yield': 2.413688,\n",
       "   'Change': -0.8327,\n",
       "   'Spread': 2.8872,\n",
       "   'GroupOrder': 2,\n",
       "   'IsSynthetic': True,\n",
       "   'IsPlot': True,\n",
       "   'IsBenchmark': False},\n",
       "  {'Asof': '2024-06-11T00:00:00',\n",
       "   'Symbol': 'LB286A',\n",
       "   'MaturityDate': '2028-06-17T00:00:00',\n",
       "   'Ttm': 4.019178082191781,\n",
       "   'Yield': 2.437499555555556,\n",
       "   'Change': -0.585967,\n",
       "   'Spread': 3.0142888888889,\n",
       "   'GroupOrder': 2,\n",
       "   'IsSynthetic': False,\n",
       "   'IsPlot': True,\n",
       "   'IsBenchmark': False},\n",
       "  {'Asof': '2024-06-11T00:00:00',\n",
       "   'Symbol': 'LB28DA',\n",
       "   'MaturityDate': '2028-12-17T00:00:00',\n",
       "   'Ttm': 4.52054794520548,\n",
       "   'Yield': 2.475666666666667,\n",
       "   'Change': -0.547733,\n",
       "   'Spread': 3.5823555555556,\n",
       "   'GroupOrder': 2,\n",
       "   'IsSynthetic': False,\n",
       "   'IsPlot': True,\n",
       "   'IsBenchmark': False},\n",
       "  {'Asof': '2024-06-11T00:00:00',\n",
       "   'Symbol': 'LB293A',\n",
       "   'MaturityDate': '2029-03-17T00:00:00',\n",
       "   'Ttm': 4.767123287671233,\n",
       "   'Yield': 2.507407444444445,\n",
       "   'Change': -1.259256,\n",
       "   'Spread': 2.4598777777778,\n",
       "   'GroupOrder': 2,\n",
       "   'IsSynthetic': False,\n",
       "   'IsPlot': True,\n",
       "   'IsBenchmark': True},\n",
       "  {'Asof': '2024-06-11T00:00:00',\n",
       "   'Symbol': 'LB296A',\n",
       "   'MaturityDate': '2029-06-22T00:00:00',\n",
       "   'Ttm': 5.032876712328767,\n",
       "   'Yield': 2.515965,\n",
       "   'Change': -0.9646,\n",
       "   'Spread': 2.7518,\n",
       "   'GroupOrder': 2,\n",
       "   'IsSynthetic': True,\n",
       "   'IsPlot': True,\n",
       "   'IsBenchmark': False},\n",
       "  {'Asof': '2024-06-11T00:00:00',\n",
       "   'Symbol': 'LB29DA',\n",
       "   'MaturityDate': '2029-12-17T00:00:00',\n",
       "   'Ttm': 5.52054794520548,\n",
       "   'Yield': 2.539317444444444,\n",
       "   'Change': -0.560178,\n",
       "   'Spread': 3.5555555555556,\n",
       "   'GroupOrder': 2,\n",
       "   'IsSynthetic': False,\n",
       "   'IsPlot': True,\n",
       "   'IsBenchmark': False},\n",
       "  {'Asof': '2024-06-11T00:00:00',\n",
       "   'Symbol': 'LB316A',\n",
       "   'MaturityDate': '2031-06-20T00:00:00',\n",
       "   'Ttm': 7.027397260273973,\n",
       "   'Yield': 2.638888888888889,\n",
       "   'Change': -1.359256,\n",
       "   'Spread': 4.1111111111111,\n",
       "   'GroupOrder': 2,\n",
       "   'IsSynthetic': False,\n",
       "   'IsPlot': True,\n",
       "   'IsBenchmark': False},\n",
       "  {'Asof': '2024-06-11T00:00:00',\n",
       "   'Symbol': 'LB31DA',\n",
       "   'MaturityDate': '2031-12-17T00:00:00',\n",
       "   'Ttm': 7.52054794520548,\n",
       "   'Yield': 2.659539333333333,\n",
       "   'Change': -2.506544,\n",
       "   'Spread': 3.8888888888889,\n",
       "   'GroupOrder': 2,\n",
       "   'IsSynthetic': False,\n",
       "   'IsPlot': True,\n",
       "   'IsBenchmark': False},\n",
       "  {'Asof': '2024-06-11T00:00:00',\n",
       "   'Symbol': 'LB326A',\n",
       "   'MaturityDate': '2032-06-25T00:00:00',\n",
       "   'Ttm': 8.043835616438356,\n",
       "   'Yield': 2.731888888888889,\n",
       "   'Change': -0.514811,\n",
       "   'Spread': 3.5555555555556,\n",
       "   'GroupOrder': 2,\n",
       "   'IsSynthetic': False,\n",
       "   'IsPlot': True,\n",
       "   'IsBenchmark': False},\n",
       "  {'Asof': '2024-06-11T00:00:00',\n",
       "   'Symbol': 'LB336A',\n",
       "   'MaturityDate': '2033-06-17T00:00:00',\n",
       "   'Ttm': 9.021917808219179,\n",
       "   'Yield': 2.77,\n",
       "   'Change': -1.277778,\n",
       "   'Spread': 2.2876888888889,\n",
       "   'GroupOrder': 2,\n",
       "   'IsSynthetic': False,\n",
       "   'IsPlot': True,\n",
       "   'IsBenchmark': False},\n",
       "  {'Asof': '2024-06-11T00:00:00',\n",
       "   'Symbol': 'LB346A',\n",
       "   'MaturityDate': '2034-06-17T00:00:00',\n",
       "   'Ttm': 10.021917808219179,\n",
       "   'Yield': 2.785555555555555,\n",
       "   'Change': -0.722222,\n",
       "   'Spread': 2.5576111111111,\n",
       "   'GroupOrder': 2,\n",
       "   'IsSynthetic': False,\n",
       "   'IsPlot': True,\n",
       "   'IsBenchmark': True},\n",
       "  {'Asof': '2024-06-11T00:00:00',\n",
       "   'Symbol': 'LB356A',\n",
       "   'MaturityDate': '2035-06-17T00:00:00',\n",
       "   'Ttm': 11.021917808219179,\n",
       "   'Yield': 2.8449,\n",
       "   'Change': -1.1662,\n",
       "   'Spread': 2.8575,\n",
       "   'GroupOrder': 2,\n",
       "   'IsSynthetic': True,\n",
       "   'IsPlot': True,\n",
       "   'IsBenchmark': False},\n",
       "  {'Asof': '2024-06-11T00:00:00',\n",
       "   'Symbol': 'ESGLB35DA',\n",
       "   'MaturityDate': '2035-12-17T00:00:00',\n",
       "   'Ttm': 11.523287671232877,\n",
       "   'Yield': 2.882222222222222,\n",
       "   'Change': -1.555556,\n",
       "   'Spread': 3.0370333333333,\n",
       "   'GroupOrder': 2,\n",
       "   'IsSynthetic': False,\n",
       "   'IsPlot': True,\n",
       "   'IsBenchmark': False},\n",
       "  {'Asof': '2024-06-11T00:00:00',\n",
       "   'Symbol': 'LB366A',\n",
       "   'MaturityDate': '2036-06-17T00:00:00',\n",
       "   'Ttm': 12.024657534246575,\n",
       "   'Yield': 2.964517555555556,\n",
       "   'Change': -0.614089,\n",
       "   'Spread': 5.1225,\n",
       "   'GroupOrder': 2,\n",
       "   'IsSynthetic': False,\n",
       "   'IsPlot': True,\n",
       "   'IsBenchmark': False},\n",
       "  {'Asof': '2024-06-11T00:00:00',\n",
       "   'Symbol': 'ESGLB376A',\n",
       "   'MaturityDate': '2037-06-17T00:00:00',\n",
       "   'Ttm': 13.024657534246575,\n",
       "   'Yield': 3.0,\n",
       "   'Change': -0.916667,\n",
       "   'Spread': 2.4166666666667,\n",
       "   'GroupOrder': 2,\n",
       "   'IsSynthetic': False,\n",
       "   'IsPlot': True,\n",
       "   'IsBenchmark': True},\n",
       "  {'Asof': '2024-06-11T00:00:00',\n",
       "   'Symbol': 'LB383A',\n",
       "   'MaturityDate': '2038-03-13T00:00:00',\n",
       "   'Ttm': 13.761643835616438,\n",
       "   'Yield': 2.994331,\n",
       "   'Change': -0.6162,\n",
       "   'Spread': 3.937,\n",
       "   'GroupOrder': 2,\n",
       "   'IsSynthetic': True,\n",
       "   'IsPlot': True,\n",
       "   'IsBenchmark': False},\n",
       "  {'Asof': '2024-06-11T00:00:00',\n",
       "   'Symbol': 'LB386A',\n",
       "   'MaturityDate': '2038-06-17T00:00:00',\n",
       "   'Ttm': 14.024657534246575,\n",
       "   'Yield': 3.034209888888889,\n",
       "   'Change': -0.4679,\n",
       "   'Spread': 4.3950666666667,\n",
       "   'GroupOrder': 2,\n",
       "   'IsSynthetic': False,\n",
       "   'IsPlot': True,\n",
       "   'IsBenchmark': False},\n",
       "  {'Asof': '2024-06-11T00:00:00',\n",
       "   'Symbol': 'LB396A',\n",
       "   'MaturityDate': '2039-06-13T00:00:00',\n",
       "   'Ttm': 15.013698630136986,\n",
       "   'Yield': 3.03422,\n",
       "   'Change': -0.3588,\n",
       "   'Spread': 5.1907,\n",
       "   'GroupOrder': 2,\n",
       "   'IsSynthetic': True,\n",
       "   'IsPlot': True,\n",
       "   'IsBenchmark': False},\n",
       "  {'Asof': '2024-06-11T00:00:00',\n",
       "   'Symbol': 'LB406A',\n",
       "   'MaturityDate': '2040-06-22T00:00:00',\n",
       "   'Ttm': 16.041095890410958,\n",
       "   'Yield': 3.055609,\n",
       "   'Change': -0.3353,\n",
       "   'Spread': 5.2904,\n",
       "   'GroupOrder': 2,\n",
       "   'IsSynthetic': True,\n",
       "   'IsPlot': True,\n",
       "   'IsBenchmark': False},\n",
       "  {'Asof': '2024-06-11T00:00:00',\n",
       "   'Symbol': 'LB416A',\n",
       "   'MaturityDate': '2041-06-14T00:00:00',\n",
       "   'Ttm': 17.019178082191782,\n",
       "   'Yield': 3.097721,\n",
       "   'Change': -0.3259,\n",
       "   'Spread': 5.2047,\n",
       "   'GroupOrder': 2,\n",
       "   'IsSynthetic': True,\n",
       "   'IsPlot': True,\n",
       "   'IsBenchmark': False},\n",
       "  {'Asof': '2024-06-11T00:00:00',\n",
       "   'Symbol': 'LB426A',\n",
       "   'MaturityDate': '2042-06-17T00:00:00',\n",
       "   'Ttm': 18.027397260273972,\n",
       "   'Yield': 3.175074111111111,\n",
       "   'Change': -0.259256,\n",
       "   'Spread': 5.3023111111111,\n",
       "   'GroupOrder': 2,\n",
       "   'IsSynthetic': False,\n",
       "   'IsPlot': True,\n",
       "   'IsBenchmark': False},\n",
       "  {'Asof': '2024-06-11T00:00:00',\n",
       "   'Symbol': 'LB436A',\n",
       "   'MaturityDate': '2043-06-17T00:00:00',\n",
       "   'Ttm': 19.027397260273972,\n",
       "   'Yield': 3.295,\n",
       "   'Change': -0.311111,\n",
       "   'Spread': 3.3888888888889,\n",
       "   'GroupOrder': 2,\n",
       "   'IsSynthetic': False,\n",
       "   'IsPlot': True,\n",
       "   'IsBenchmark': True},\n",
       "  {'Asof': '2024-06-11T00:00:00',\n",
       "   'Symbol': 'LB446A',\n",
       "   'MaturityDate': '2044-06-29T00:00:00',\n",
       "   'Ttm': 20.063013698630137,\n",
       "   'Yield': 3.31595,\n",
       "   'Change': -0.2576,\n",
       "   'Spread': 5.7123,\n",
       "   'GroupOrder': 2,\n",
       "   'IsSynthetic': True,\n",
       "   'IsPlot': True,\n",
       "   'IsBenchmark': False},\n",
       "  {'Asof': '2024-06-11T00:00:00',\n",
       "   'Symbol': 'LB466A',\n",
       "   'MaturityDate': '2046-06-17T00:00:00',\n",
       "   'Ttm': 22.03013698630137,\n",
       "   'Yield': 3.423334666666667,\n",
       "   'Change': -0.093489,\n",
       "   'Spread': 9.3996222222222,\n",
       "   'GroupOrder': 2,\n",
       "   'IsSynthetic': False,\n",
       "   'IsPlot': True,\n",
       "   'IsBenchmark': False},\n",
       "  {'Asof': '2024-06-11T00:00:00',\n",
       "   'Symbol': 'LB496A',\n",
       "   'MaturityDate': '2049-06-17T00:00:00',\n",
       "   'Ttm': 25.03287671232877,\n",
       "   'Yield': 3.424029111111111,\n",
       "   'Change': 0.1134,\n",
       "   'Spread': 8.5781111111111,\n",
       "   'GroupOrder': 2,\n",
       "   'IsSynthetic': False,\n",
       "   'IsPlot': True,\n",
       "   'IsBenchmark': False},\n",
       "  {'Asof': '2024-06-11T00:00:00',\n",
       "   'Symbol': 'LB526A',\n",
       "   'MaturityDate': '2052-06-17T00:00:00',\n",
       "   'Ttm': 28.035616438356165,\n",
       "   'Yield': 3.474477111111111,\n",
       "   'Change': 0.006644,\n",
       "   'Spread': 8.7314444444444,\n",
       "   'GroupOrder': 2,\n",
       "   'IsSynthetic': False,\n",
       "   'IsPlot': True,\n",
       "   'IsBenchmark': False},\n",
       "  {'Asof': '2024-06-11T00:00:00',\n",
       "   'Symbol': 'LB556A',\n",
       "   'MaturityDate': '2055-06-17T00:00:00',\n",
       "   'Ttm': 31.035616438356165,\n",
       "   'Yield': 3.575543222222222,\n",
       "   'Change': -0.434567,\n",
       "   'Spread': 7.565,\n",
       "   'GroupOrder': 2,\n",
       "   'IsSynthetic': False,\n",
       "   'IsPlot': True,\n",
       "   'IsBenchmark': True},\n",
       "  {'Asof': '2024-06-11T00:00:00',\n",
       "   'Symbol': 'LB616A',\n",
       "   'MaturityDate': '2061-06-17T00:00:00',\n",
       "   'Ttm': 37.04109589041096,\n",
       "   'Yield': 3.774825333333334,\n",
       "   'Change': -0.0653,\n",
       "   'Spread': 9.6050888888889,\n",
       "   'GroupOrder': 2,\n",
       "   'IsSynthetic': False,\n",
       "   'IsPlot': True,\n",
       "   'IsBenchmark': False},\n",
       "  {'Asof': '2024-06-11T00:00:00',\n",
       "   'Symbol': 'LB666A',\n",
       "   'MaturityDate': '2066-06-17T00:00:00',\n",
       "   'Ttm': 42.04383561643836,\n",
       "   'Yield': 3.795827666666667,\n",
       "   'Change': -0.062133,\n",
       "   'Spread': 9.6415333333333,\n",
       "   'GroupOrder': 2,\n",
       "   'IsSynthetic': False,\n",
       "   'IsPlot': True,\n",
       "   'IsBenchmark': False},\n",
       "  {'Asof': '2024-06-11T00:00:00',\n",
       "   'Symbol': 'LB676A',\n",
       "   'MaturityDate': '2067-06-17T00:00:00',\n",
       "   'Ttm': 43.04383561643836,\n",
       "   'Yield': 3.830500888888889,\n",
       "   'Change': 0.148289,\n",
       "   'Spread': 8.0168444444444,\n",
       "   'GroupOrder': 2,\n",
       "   'IsSynthetic': False,\n",
       "   'IsPlot': True,\n",
       "   'IsBenchmark': False},\n",
       "  {'Asof': '2024-06-11T00:00:00',\n",
       "   'Symbol': 'LB716A',\n",
       "   'MaturityDate': '2071-06-17T00:00:00',\n",
       "   'Ttm': 47.04657534246575,\n",
       "   'Yield': 3.965162,\n",
       "   'Change': 0.9621,\n",
       "   'Spread': 8.2217,\n",
       "   'GroupOrder': 2,\n",
       "   'IsSynthetic': True,\n",
       "   'IsPlot': True,\n",
       "   'IsBenchmark': False},\n",
       "  {'Asof': '2024-06-11T00:00:00',\n",
       "   'Symbol': 'LB726A',\n",
       "   'MaturityDate': '2072-06-17T00:00:00',\n",
       "   'Ttm': 48.04931506849315,\n",
       "   'Yield': 3.893092222222222,\n",
       "   'Change': 0.791367,\n",
       "   'Spread': 9.1562888888889,\n",
       "   'GroupOrder': 2,\n",
       "   'IsSynthetic': False,\n",
       "   'IsPlot': True,\n",
       "   'IsBenchmark': True}]}"
      ]
     },
     "execution_count": 4,
     "metadata": {},
     "output_type": "execute_result"
    }
   ],
   "source": [
    "#Inspect HTTP Response:\n",
    "response.json()"
   ]
  },
  {
   "cell_type": "code",
   "execution_count": 5,
   "metadata": {},
   "outputs": [
    {
     "name": "stdout",
     "output_type": "stream",
     "text": [
      "2\n",
      "Curve\n",
      "Stat\n",
      "{'Asof': '2024-06-11T00:00:00', 'X': 0.076712, 'Y': 2.308389}\n"
     ]
    }
   ],
   "source": [
    "print(len(response.json()))\n",
    "\n",
    "for key in (response.json()):\n",
    "    print(key)\n",
    "print(response.json()['Curve'][0])"
   ]
  },
  {
   "cell_type": "markdown",
   "metadata": {},
   "source": [
    "##### Webscraping for Thai BMZ Zero Coupon Yield Curve"
   ]
  },
  {
   "cell_type": "code",
   "execution_count": 6,
   "metadata": {},
   "outputs": [
    {
     "name": "stdout",
     "output_type": "stream",
     "text": [
      "Request.Get SUCCESS\n"
     ]
    },
    {
     "data": {
      "text/plain": [
       "[{'Asof': '2024-05-31T00:00:00', 'X': 0.076712, 'Y': 2.292093},\n",
       " {'Asof': '2024-05-31T00:00:00', 'X': 0.249315, 'Y': 2.309136},\n",
       " {'Asof': '2024-05-31T00:00:00', 'X': 0.49863, 'Y': 2.333558},\n",
       " {'Asof': '2024-05-31T00:00:00', 'X': 1.0, 'Y': 2.335858},\n",
       " {'Asof': '2024-05-31T00:00:00', 'X': 2.0, 'Y': 2.398511},\n",
       " {'Asof': '2024-05-31T00:00:00', 'X': 3.0, 'Y': 2.417629},\n",
       " {'Asof': '2024-05-31T00:00:00', 'X': 4.0, 'Y': 2.47877},\n",
       " {'Asof': '2024-05-31T00:00:00', 'X': 5.0, 'Y': 2.541578},\n",
       " {'Asof': '2024-05-31T00:00:00', 'X': 6.0, 'Y': 2.609454},\n",
       " {'Asof': '2024-05-31T00:00:00', 'X': 7.0, 'Y': 2.710896},\n",
       " {'Asof': '2024-05-31T00:00:00', 'X': 8.0, 'Y': 2.797031},\n",
       " {'Asof': '2024-05-31T00:00:00', 'X': 9.0, 'Y': 2.849592},\n",
       " {'Asof': '2024-05-31T00:00:00', 'X': 10.0, 'Y': 2.862236},\n",
       " {'Asof': '2024-05-31T00:00:00', 'X': 11.0, 'Y': 2.912568},\n",
       " {'Asof': '2024-05-31T00:00:00', 'X': 12.0, 'Y': 2.995788},\n",
       " {'Asof': '2024-05-31T00:00:00', 'X': 13.0, 'Y': 3.094723},\n",
       " {'Asof': '2024-05-31T00:00:00', 'X': 14.0, 'Y': 3.142156},\n",
       " {'Asof': '2024-05-31T00:00:00', 'X': 15.0, 'Y': 3.170685},\n",
       " {'Asof': '2024-05-31T00:00:00', 'X': 16.0, 'Y': 3.189458},\n",
       " {'Asof': '2024-05-31T00:00:00', 'X': 17.0, 'Y': 3.212786},\n",
       " {'Asof': '2024-05-31T00:00:00', 'X': 18.0, 'Y': 3.255002},\n",
       " {'Asof': '2024-05-31T00:00:00', 'X': 19.0, 'Y': 3.445703},\n",
       " {'Asof': '2024-05-31T00:00:00', 'X': 20.0, 'Y': 3.523982},\n",
       " {'Asof': '2024-05-31T00:00:00', 'X': 21.0, 'Y': 3.57652},\n",
       " {'Asof': '2024-05-31T00:00:00', 'X': 22.0, 'Y': 3.597208},\n",
       " {'Asof': '2024-05-31T00:00:00', 'X': 23.0, 'Y': 3.580158},\n",
       " {'Asof': '2024-05-31T00:00:00', 'X': 24.0, 'Y': 3.544798},\n",
       " {'Asof': '2024-05-31T00:00:00', 'X': 25.0, 'Y': 3.523743},\n",
       " {'Asof': '2024-05-31T00:00:00', 'X': 26.0, 'Y': 3.539911},\n",
       " {'Asof': '2024-05-31T00:00:00', 'X': 27.0, 'Y': 3.583},\n",
       " {'Asof': '2024-05-31T00:00:00', 'X': 28.0, 'Y': 3.636764},\n",
       " {'Asof': '2024-05-31T00:00:00', 'X': 29.0, 'Y': 3.705595},\n",
       " {'Asof': '2024-05-31T00:00:00', 'X': 30.0, 'Y': 3.796736},\n",
       " {'Asof': '2024-05-31T00:00:00', 'X': 31.0, 'Y': 3.889152},\n",
       " {'Asof': '2024-05-31T00:00:00', 'X': 32.0, 'Y': 3.984157},\n",
       " {'Asof': '2024-05-31T00:00:00', 'X': 33.0, 'Y': 4.09394},\n",
       " {'Asof': '2024-05-31T00:00:00', 'X': 34.0, 'Y': 4.204598},\n",
       " {'Asof': '2024-05-31T00:00:00', 'X': 35.0, 'Y': 4.302119},\n",
       " {'Asof': '2024-05-31T00:00:00', 'X': 36.0, 'Y': 4.372492},\n",
       " {'Asof': '2024-05-31T00:00:00', 'X': 37.0, 'Y': 4.401708},\n",
       " {'Asof': '2024-05-31T00:00:00', 'X': 38.0, 'Y': 4.391435},\n",
       " {'Asof': '2024-05-31T00:00:00', 'X': 39.0, 'Y': 4.36332},\n",
       " {'Asof': '2024-05-31T00:00:00', 'X': 40.0, 'Y': 4.327743},\n",
       " {'Asof': '2024-05-31T00:00:00', 'X': 41.0, 'Y': 4.29501},\n",
       " {'Asof': '2024-05-31T00:00:00', 'X': 42.0, 'Y': 4.275429},\n",
       " {'Asof': '2024-05-31T00:00:00', 'X': 43.0, 'Y': 4.26941},\n",
       " {'Asof': '2024-05-31T00:00:00', 'X': 44.0, 'Y': 4.273444},\n",
       " {'Asof': '2024-05-31T00:00:00', 'X': 45.0, 'Y': 4.28709},\n",
       " {'Asof': '2024-05-31T00:00:00', 'X': 46.0, 'Y': 4.310441},\n",
       " {'Asof': '2024-05-31T00:00:00', 'X': 47.0, 'Y': 4.343615},\n",
       " {'Asof': '2024-05-31T00:00:00', 'X': 48.0, 'Y': 4.386727}]"
      ]
     },
     "execution_count": 6,
     "metadata": {},
     "output_type": "execute_result"
    }
   ],
   "source": [
    "date = '2024-05-31'\n",
    "url = f'http://www.thaibma.or.th/yieldcurve/zero/{date}'\n",
    "response = requests.get(url)\n",
    "\n",
    "if response.status_code==200:\n",
    "    print('Request.Get SUCCESS')\n",
    "else:\n",
    "    print(f\"Non-success status code: {response.status_code}\")\n",
    "\n",
    "ZCB_Table = response.json()['Curve']\n",
    "ZCB_Table"
   ]
  },
  {
   "cell_type": "code",
   "execution_count": 7,
   "metadata": {},
   "outputs": [
    {
     "name": "stdout",
     "output_type": "stream",
     "text": [
      "{0.076712: 2.292093, 0.249315: 2.309136, 0.49863: 2.333558, 1.0: 2.335858, 2.0: 2.398511, 3.0: 2.417629, 4.0: 2.47877, 5.0: 2.541578, 6.0: 2.609454, 7.0: 2.710896, 8.0: 2.797031, 9.0: 2.849592, 10.0: 2.862236, 11.0: 2.912568, 12.0: 2.995788, 13.0: 3.094723, 14.0: 3.142156, 15.0: 3.170685, 16.0: 3.189458, 17.0: 3.212786, 18.0: 3.255002, 19.0: 3.445703, 20.0: 3.523982, 21.0: 3.57652, 22.0: 3.597208, 23.0: 3.580158, 24.0: 3.544798, 25.0: 3.523743, 26.0: 3.539911, 27.0: 3.583, 28.0: 3.636764, 29.0: 3.705595, 30.0: 3.796736, 31.0: 3.889152, 32.0: 3.984157, 33.0: 4.09394, 34.0: 4.204598, 35.0: 4.302119, 36.0: 4.372492, 37.0: 4.401708, 38.0: 4.391435, 39.0: 4.36332, 40.0: 4.327743, 41.0: 4.29501, 42.0: 4.275429, 43.0: 4.26941, 44.0: 4.273444, 45.0: 4.28709, 46.0: 4.310441, 47.0: 4.343615, 48.0: 4.386727}\n"
     ]
    }
   ],
   "source": [
    "# Dict Output\n",
    "dict_ZCB_Yield={}\n",
    "for item in ZCB_Table:\n",
    "    dict_ZCB_Yield[item['X']]=item['Y']\n",
    "print(dict_ZCB_Yield)"
   ]
  },
  {
   "cell_type": "code",
   "execution_count": 8,
   "metadata": {},
   "outputs": [
    {
     "name": "stdout",
     "output_type": "stream",
     "text": [
      "         Term  ZCB_Yield\n",
      "0    0.076712   2.292093\n",
      "1    0.249315   2.309136\n",
      "2    0.498630   2.333558\n",
      "3    1.000000   2.335858\n",
      "4    2.000000   2.398511\n",
      "5    3.000000   2.417629\n",
      "6    4.000000   2.478770\n",
      "7    5.000000   2.541578\n",
      "8    6.000000   2.609454\n",
      "9    7.000000   2.710896\n",
      "10   8.000000   2.797031\n",
      "11   9.000000   2.849592\n",
      "12  10.000000   2.862236\n",
      "13  11.000000   2.912568\n",
      "14  12.000000   2.995788\n",
      "15  13.000000   3.094723\n",
      "16  14.000000   3.142156\n",
      "17  15.000000   3.170685\n",
      "18  16.000000   3.189458\n",
      "19  17.000000   3.212786\n",
      "20  18.000000   3.255002\n",
      "21  19.000000   3.445703\n",
      "22  20.000000   3.523982\n",
      "23  21.000000   3.576520\n",
      "24  22.000000   3.597208\n",
      "25  23.000000   3.580158\n",
      "26  24.000000   3.544798\n",
      "27  25.000000   3.523743\n",
      "28  26.000000   3.539911\n",
      "29  27.000000   3.583000\n",
      "30  28.000000   3.636764\n",
      "31  29.000000   3.705595\n",
      "32  30.000000   3.796736\n",
      "33  31.000000   3.889152\n",
      "34  32.000000   3.984157\n",
      "35  33.000000   4.093940\n",
      "36  34.000000   4.204598\n",
      "37  35.000000   4.302119\n",
      "38  36.000000   4.372492\n",
      "39  37.000000   4.401708\n",
      "40  38.000000   4.391435\n",
      "41  39.000000   4.363320\n",
      "42  40.000000   4.327743\n",
      "43  41.000000   4.295010\n",
      "44  42.000000   4.275429\n",
      "45  43.000000   4.269410\n",
      "46  44.000000   4.273444\n",
      "47  45.000000   4.287090\n",
      "48  46.000000   4.310441\n",
      "49  47.000000   4.343615\n",
      "50  48.000000   4.386727\n"
     ]
    }
   ],
   "source": [
    "# Dataframe Output\n",
    "import pandas as pd\n",
    "df_ZCB_Yield = pd.DataFrame(columns = ['Term','ZCB_Yield'])\n",
    "\n",
    "for item in ZCB_Table:\n",
    "    df_ZCB_Yield.loc[len(df_ZCB_Yield)]=[item['X'],item['Y']]\n",
    "    \n",
    "print(df_ZCB_Yield)"
   ]
  },
  {
   "cell_type": "markdown",
   "metadata": {},
   "source": [
    "### 2. Request + Beautiful Soup Method - CNBC News Scraping"
   ]
  },
  {
   "cell_type": "code",
   "execution_count": 9,
   "metadata": {},
   "outputs": [],
   "source": [
    "url1 = 'https://api.queryly.com/cnbc/json.aspx?queryly_key=31a35d40a9a64ab3&query=US%2010%20year%20treasury&endindex=0&batchsize=10&callback=&showfaceted=false&timezoneoffset=-480&facetedfields=formats&facetedkey=formats%7C&facetedvalue=!Press%20Release%7C&sort=date&additionalindexes=4cd6f71fbf22424d,937d600b0d0d4e23,3bfbe40caee7443e,626fdfcd96444f28'\n",
    "url2 = 'https://api.queryly.com/cnbc/json.aspx?queryly_key=31a35d40a9a64ab3&query=US%2010%20year%20treasury&endindex=10&batchsize=10&callback=&showfaceted=false&timezoneoffset=-480&facetedfields=formats&facetedkey=formats%7C&facetedvalue=!Press%20Release%7C&sort=date&additionalindexes=4cd6f71fbf22424d,937d600b0d0d4e23,3bfbe40caee7443e,626fdfcd96444f28'\n",
    "url3 = 'https://api.queryly.com/cnbc/json.aspx?queryly_key=31a35d40a9a64ab3&query=US%2010%20year%20treasury&endindex=20&batchsize=10&callback=&showfaceted=false&timezoneoffset=-480&facetedfields=formats&facetedkey=formats%7C&facetedvalue=!Press%20Release%7C&sort=date&additionalindexes=4cd6f71fbf22424d,937d600b0d0d4e23,3bfbe40caee7443e,626fdfcd96444f28'"
   ]
  },
  {
   "cell_type": "code",
   "execution_count": 14,
   "metadata": {},
   "outputs": [
    {
     "name": "stderr",
     "output_type": "stream",
     "text": [
      "C:\\Users\\405311\\AppData\\Roaming\\Python\\Python311\\site-packages\\urllib3\\connectionpool.py:1099: InsecureRequestWarning: Unverified HTTPS request is being made to host 'api.queryly.com'. Adding certificate verification is strongly advised. See: https://urllib3.readthedocs.io/en/latest/advanced-usage.html#tls-warnings\n",
      "  warnings.warn(\n"
     ]
    },
    {
     "name": "stdout",
     "output_type": "stream",
     "text": [
      "Request.Get SUCCESS\n"
     ]
    },
    {
     "data": {
      "text/plain": [
       "{'description': 'U.S. Treasury bond yields fell on Tuesday after a cool reading for May retail sales raised concerns about the strength of the economy.The 10-year Treasury yield was more than 6 basis points lower at 4',\n",
       " 'cn:lastPubDate': '2024-06-18T16:11:04+0000',\n",
       " 'dateModified': '2024-06-18T16:11:04+0000',\n",
       " 'cn:dateline': '',\n",
       " 'cn:branding': 'cnbc',\n",
       " 'section': 'Bonds',\n",
       " 'cn:type': 'cnbcnewsstory',\n",
       " 'author': 'Samantha Subin',\n",
       " 'cn:source': [],\n",
       " 'cn:subtype': '',\n",
       " 'duration': '',\n",
       " 'summary': 'U.S. Treasury bond yields fell Tuesday following the release of May retail sales data.',\n",
       " 'expires': '',\n",
       " 'cn:sectionSubType': ['marketsection', 'section'],\n",
       " 'cn:contentClassification': [],\n",
       " 'pubdateunix': 1718694493,\n",
       " '_id': 842621,\n",
       " 'url': 'https://www.cnbc.com/2024/06/18/treasury-yields-rise-ahead-of-may-retail-sales-data.html',\n",
       " '@id': '107430173',\n",
       " 'datePublished': '2024-06-18T07:08:13+0000',\n",
       " 'cn:promoImage': 'https://image.cnbcfm.com/api/v1/image/107427913-17182060842024-06-12t152739z_2108252852_rc2p98aw0zo5_rtrmadp_0_usa-stocks.jpeg?v=1718206121',\n",
       " 'cn:title': 'Treasury yields retreat as weak retail sales raise concerns about consumer',\n",
       " 'cn:keyword': '',\n",
       " 'cn:liveURL': 'https://www.cnbc.com/2024/06/18/treasury-yields-rise-ahead-of-may-retail-sales-data.html',\n",
       " '_pubDate': '6/18/2024 3:08:13 PM',\n",
       " '_type': 0,\n",
       " '_index': 0,\n",
       " 'brand': 'cnbc'}"
      ]
     },
     "execution_count": 14,
     "metadata": {},
     "output_type": "execute_result"
    }
   ],
   "source": [
    "response = requests.get(url1, verify=False)\n",
    "if response.status_code==200:\n",
    "    print('Request.Get SUCCESS')\n",
    "else:\n",
    "    print(f\"Non-success status code: {response.status_code}\")\n",
    "\n",
    "api_results = response.json()['results']\n",
    "\n",
    "api_results[0]\n",
    "\n",
    "# news_url_dict ={}\n",
    "\n",
    "# for item in api_results:\n",
    "#     if item['cn:contentClassification'] == []:\n",
    "#         news_url_dict[item['dateModified']] = item['url']\n",
    "\n",
    "# print(news_url_dict)\n",
    "\n"
   ]
  },
  {
   "cell_type": "code",
   "execution_count": 18,
   "metadata": {},
   "outputs": [
    {
     "name": "stdout",
     "output_type": "stream",
     "text": [
      "Looping 0 - 10 news link ......\n"
     ]
    },
    {
     "name": "stderr",
     "output_type": "stream",
     "text": [
      "C:\\Users\\405311\\AppData\\Roaming\\Python\\Python311\\site-packages\\urllib3\\connectionpool.py:1099: InsecureRequestWarning: Unverified HTTPS request is being made to host 'api.queryly.com'. Adding certificate verification is strongly advised. See: https://urllib3.readthedocs.io/en/latest/advanced-usage.html#tls-warnings\n",
      "  warnings.warn(\n"
     ]
    },
    {
     "name": "stdout",
     "output_type": "stream",
     "text": [
      "Looping 10 - 20 news link ......\n"
     ]
    },
    {
     "name": "stderr",
     "output_type": "stream",
     "text": [
      "C:\\Users\\405311\\AppData\\Roaming\\Python\\Python311\\site-packages\\urllib3\\connectionpool.py:1099: InsecureRequestWarning: Unverified HTTPS request is being made to host 'api.queryly.com'. Adding certificate verification is strongly advised. See: https://urllib3.readthedocs.io/en/latest/advanced-usage.html#tls-warnings\n",
      "  warnings.warn(\n"
     ]
    },
    {
     "name": "stdout",
     "output_type": "stream",
     "text": [
      "Looping 20 - 30 news link ......\n"
     ]
    },
    {
     "name": "stderr",
     "output_type": "stream",
     "text": [
      "C:\\Users\\405311\\AppData\\Roaming\\Python\\Python311\\site-packages\\urllib3\\connectionpool.py:1099: InsecureRequestWarning: Unverified HTTPS request is being made to host 'api.queryly.com'. Adding certificate verification is strongly advised. See: https://urllib3.readthedocs.io/en/latest/advanced-usage.html#tls-warnings\n",
      "  warnings.warn(\n"
     ]
    },
    {
     "name": "stdout",
     "output_type": "stream",
     "text": [
      "Generated URL Link DataFrame .....\n",
      "                    DateTime  \\\n",
      "0   2024-06-18T16:11:04+0000   \n",
      "1   2024-06-17T16:12:32+0000   \n",
      "2   2024-06-14T16:00:43+0000   \n",
      "3   2024-06-13T14:43:30+0000   \n",
      "4   2024-06-12T17:58:14+0000   \n",
      "5   2024-06-11T16:00:08+0000   \n",
      "6   2024-06-11T02:11:55+0000   \n",
      "7   2024-06-10T21:42:11+0000   \n",
      "8   2024-06-10T15:58:28+0000   \n",
      "9   2024-06-10T02:10:40+0000   \n",
      "10  2024-06-09T21:31:05+0000   \n",
      "11  2024-06-07T09:39:36+0000   \n",
      "12  2024-06-07T03:27:31+0000   \n",
      "13  2024-06-07T16:14:42+0000   \n",
      "14  2024-06-06T20:51:52+0000   \n",
      "15  2024-06-06T16:01:50+0000   \n",
      "16  2024-06-05T17:12:43+0000   \n",
      "17  2024-06-04T21:55:52+0000   \n",
      "18  2024-06-04T16:09:47+0000   \n",
      "19  2024-06-03T16:28:27+0000   \n",
      "20  2024-05-31T16:20:33+0000   \n",
      "21  2024-05-30T22:25:35+0000   \n",
      "22  2024-05-30T16:14:26+0000   \n",
      "23  2024-05-29T16:16:59+0000   \n",
      "24  2024-05-22T16:17:48+0000   \n",
      "25  2024-05-21T16:01:13+0000   \n",
      "26  2024-05-20T16:34:15+0000   \n",
      "27  2024-05-19T06:50:25+0000   \n",
      "\n",
      "                                                  URL  \n",
      "0   https://www.cnbc.com/2024/06/18/treasury-yield...  \n",
      "1   https://www.cnbc.com/2024/06/17/us-treasury-bo...  \n",
      "2   https://www.cnbc.com/2024/06/14/10-year-treasu...  \n",
      "3   https://www.cnbc.com/2024/06/13/us-treasury-yi...  \n",
      "4   https://www.cnbc.com/2024/06/12/us-treasury-yi...  \n",
      "5   https://www.cnbc.com/2024/06/11/us-treasury-yi...  \n",
      "6   https://www.cnbc.com/2024/06/11/cnbc-daily-ope...  \n",
      "7   https://www.cnbc.com/2024/06/11/cnbc-daily-ope...  \n",
      "8   https://www.cnbc.com/2024/06/10/us-treasurys-i...  \n",
      "9   https://www.cnbc.com/2024/06/10/cnbc-daily-ope...  \n",
      "10  https://www.cnbc.com/2024/06/10/cnbc-daily-ope...  \n",
      "11  https://www.cnbc.com/2024/06/07/jobs-report-ma...  \n",
      "12  https://www.cnbc.com/2024/06/07/cnbc-daily-ope...  \n",
      "13  https://www.cnbc.com/2024/06/07/us-treasurys-a...  \n",
      "14  https://www.cnbc.com/2024/06/07/cnbc-daily-ope...  \n",
      "15  https://www.cnbc.com/2024/06/06/us-treasurys-i...  \n",
      "16  https://www.cnbc.com/2024/06/05/us-treasurys-i...  \n",
      "17  https://www.cnbc.com/2024/06/05/cnbc-daily-ope...  \n",
      "18  https://www.cnbc.com/2024/06/04/us-treasurys-a...  \n",
      "19  https://www.cnbc.com/2024/06/03/us-treasurys-i...  \n",
      "20  https://www.cnbc.com/2024/05/31/us-treasurys-a...  \n",
      "21  https://www.cnbc.com/2024/05/31/cnbc-daily-ope...  \n",
      "22  https://www.cnbc.com/2024/05/30/us-treasurys-a...  \n",
      "23  https://www.cnbc.com/2024/05/29/us-treasurys-i...  \n",
      "24  https://www.cnbc.com/2024/05/22/us-treasurys-i...  \n",
      "25  https://www.cnbc.com/2024/05/21/us-treasury-yi...  \n",
      "26  https://www.cnbc.com/2024/05/20/us-treasurys-i...  \n",
      "27  https://www.cnbc.com/2024/05/19/soaring-debt-a...  \n"
     ]
    }
   ],
   "source": [
    "import pandas as pd\n",
    "\n",
    "scroll_times = 3\n",
    "\n",
    "method = 'pd' #enter 'dict' or 'pd'\n",
    "\n",
    "news_dict ={}\n",
    "df_news = pd.DataFrame(columns=['DateTime','URL'])\n",
    "\n",
    "for i in range(scroll_times):\n",
    "    index_no = i * 10\n",
    "    print(f'Looping {i * 10} - {(i +1) * 10} news link ......')\n",
    "    url_temp = f'https://api.queryly.com/cnbc/json.aspx?queryly_key=31a35d40a9a64ab3&query=US%2010%20year%20treasury&endindex={index_no}&batchsize=10&callback=&showfaceted=false&timezoneoffset=-480&facetedfields=formats&facetedkey=formats%7C&facetedvalue=!Press%20Release%7C&sort=date&additionalindexes=4cd6f71fbf22424d,937d600b0d0d4e23,3bfbe40caee7443e,626fdfcd96444f28'\n",
    "\n",
    "\n",
    "    response = requests.get(url_temp, verify=False)\n",
    "    if response.status_code!=200:\n",
    "        print(f\"Non-success status code: {response.status_code}\")\n",
    "\n",
    "    api_results = response.json()['results']\n",
    "\n",
    "\n",
    "    for item in api_results:\n",
    "        if item['cn:contentClassification'] == []:\n",
    "            if method == 'dict':\n",
    "                news_dict[item['dateModified']] = item['url']\n",
    "            elif method == 'pd':\n",
    "                new_data = {'DateTime': item['dateModified'],'URL': item['url']}\n",
    "                df_news.loc[len(df_news)] = new_data\n",
    "\n",
    "if method == 'dict':\n",
    "    print('Generated URL Link Dictionary .....')\n",
    "    print(news_dict)\n",
    "elif method == 'pd':\n",
    "    print('Generated URL Link DataFrame .....')\n",
    "    print(df_news)\n"
   ]
  },
  {
   "cell_type": "code",
   "execution_count": 19,
   "metadata": {},
   "outputs": [
    {
     "name": "stderr",
     "output_type": "stream",
     "text": [
      "C:\\Users\\405311\\AppData\\Roaming\\Python\\Python311\\site-packages\\urllib3\\connectionpool.py:1099: InsecureRequestWarning: Unverified HTTPS request is being made to host 'www.cnbc.com'. Adding certificate verification is strongly advised. See: https://urllib3.readthedocs.io/en/latest/advanced-usage.html#tls-warnings\n",
      "  warnings.warn(\n"
     ]
    },
    {
     "name": "stdout",
     "output_type": "stream",
     "text": [
      "U.S. Treasury yields were little changed Thursday as investors considered the latest economic data and weighed the outlook for interest rate cuts.The yield on the 10-year Treasury ticked up about 1 basis point to 4.288%. The 2-year Treasury yield added less than 1 basis point on the day to 4.73%.Yields and prices move in opposite directions, and one basis point is equivalent to 0.01%.The European Central Bank announced its first interest rate cut since 2019 on Thursday, even as inflationary pressures in the eurozone have lingered. The move will likely increase the pressure on the U.S. Federal Reserve to follow suit and walk back monetary policy that investors view as too restrictive. The Fed is due to meet next week, but rate cuts in the U.S. are not expected to begin until later in the year.Canada became the first country in the Group of Seven to reduce interest rates in the current cycle on Wednesday, following cuts from central banks in Sweden and Switzerland earlier in the year. Investors parsed through the latest economic data and looked to the May jobs report slated for later in the week. That will include nonfarm payrolls and the unemployment rate, giving investors insights into the state of the labor market.That comes after data released Wednesday by ADP showed that private payrolls increased by 152,000 in May, below the 175,000 estimated. Earlier in the week, job openings figures for April came in at 8.059 million, the lowest in three years.Investors also weighed data that provided fresh clues about the state of the economy. ISM's purchasing managers' index for the services sector, which was released Wednesday, rose to 53.8 in May, above the previously expected 50.7. Readings above 50 indicate an expansion of the sector.\n"
     ]
    }
   ],
   "source": [
    "from bs4 import BeautifulSoup\n",
    "url_article = 'https://www.cnbc.com/2024/06/07/us-treasurys-ahead-of-may-jobs-report.html'\n",
    "url_article = 'https://www.cnbc.com/2024/06/06/us-treasurys-investors-weigh-economic-data-interest-rate-outlook.html'\n",
    "\n",
    "def extract_article_content(url):\n",
    "    response = requests.get(url, verify = False)\n",
    "    # print(response.text)\n",
    "\n",
    "    soup = BeautifulSoup(response.text,\"html.parser\")\n",
    "    content = soup.find_all('div', class_='group')\n",
    "\n",
    "    content_combined = ' '.join([para.get_text() for para in content])\n",
    "\n",
    "    return content_combined\n",
    "\n",
    "result = extract_article_content(url_article)\n",
    "print(result)\n"
   ]
  },
  {
   "cell_type": "code",
   "execution_count": 20,
   "metadata": {},
   "outputs": [
    {
     "name": "stdout",
     "output_type": "stream",
     "text": [
      "https://www.cnbc.com/2024/06/18/treasury-yields-rise-ahead-of-may-retail-sales-data.html\n"
     ]
    },
    {
     "name": "stderr",
     "output_type": "stream",
     "text": [
      "C:\\Users\\405311\\AppData\\Roaming\\Python\\Python311\\site-packages\\urllib3\\connectionpool.py:1099: InsecureRequestWarning: Unverified HTTPS request is being made to host 'www.cnbc.com'. Adding certificate verification is strongly advised. See: https://urllib3.readthedocs.io/en/latest/advanced-usage.html#tls-warnings\n",
      "  warnings.warn(\n"
     ]
    },
    {
     "name": "stdout",
     "output_type": "stream",
     "text": [
      "https://www.cnbc.com/2024/06/17/us-treasury-bond-yields-traders-assess-timeline-of-interest-rate-cuts.html\n"
     ]
    },
    {
     "name": "stderr",
     "output_type": "stream",
     "text": [
      "C:\\Users\\405311\\AppData\\Roaming\\Python\\Python311\\site-packages\\urllib3\\connectionpool.py:1099: InsecureRequestWarning: Unverified HTTPS request is being made to host 'www.cnbc.com'. Adding certificate verification is strongly advised. See: https://urllib3.readthedocs.io/en/latest/advanced-usage.html#tls-warnings\n",
      "  warnings.warn(\n"
     ]
    },
    {
     "name": "stdout",
     "output_type": "stream",
     "text": [
      "https://www.cnbc.com/2024/06/14/10-year-treasury-yields-slip-as-traders-digest-drop-in-wholesale-prices.html\n"
     ]
    },
    {
     "name": "stderr",
     "output_type": "stream",
     "text": [
      "C:\\Users\\405311\\AppData\\Roaming\\Python\\Python311\\site-packages\\urllib3\\connectionpool.py:1099: InsecureRequestWarning: Unverified HTTPS request is being made to host 'www.cnbc.com'. Adding certificate verification is strongly advised. See: https://urllib3.readthedocs.io/en/latest/advanced-usage.html#tls-warnings\n",
      "  warnings.warn(\n"
     ]
    },
    {
     "name": "stdout",
     "output_type": "stream",
     "text": [
      "https://www.cnbc.com/2024/06/13/us-treasury-yields-in-focus-as-fed-signals-one-rate-cut-this-year.html\n"
     ]
    },
    {
     "name": "stderr",
     "output_type": "stream",
     "text": [
      "C:\\Users\\405311\\AppData\\Roaming\\Python\\Python311\\site-packages\\urllib3\\connectionpool.py:1099: InsecureRequestWarning: Unverified HTTPS request is being made to host 'www.cnbc.com'. Adding certificate verification is strongly advised. See: https://urllib3.readthedocs.io/en/latest/advanced-usage.html#tls-warnings\n",
      "  warnings.warn(\n"
     ]
    },
    {
     "name": "stdout",
     "output_type": "stream",
     "text": [
      "https://www.cnbc.com/2024/06/12/us-treasury-yields-ahead-of-fed-decision-key-inflation-data.html\n"
     ]
    },
    {
     "name": "stderr",
     "output_type": "stream",
     "text": [
      "C:\\Users\\405311\\AppData\\Roaming\\Python\\Python311\\site-packages\\urllib3\\connectionpool.py:1099: InsecureRequestWarning: Unverified HTTPS request is being made to host 'www.cnbc.com'. Adding certificate verification is strongly advised. See: https://urllib3.readthedocs.io/en/latest/advanced-usage.html#tls-warnings\n",
      "  warnings.warn(\n"
     ]
    },
    {
     "name": "stdout",
     "output_type": "stream",
     "text": [
      "https://www.cnbc.com/2024/06/11/us-treasury-yields-as-fed-meeting-kicks-off.html\n"
     ]
    },
    {
     "name": "stderr",
     "output_type": "stream",
     "text": [
      "C:\\Users\\405311\\AppData\\Roaming\\Python\\Python311\\site-packages\\urllib3\\connectionpool.py:1099: InsecureRequestWarning: Unverified HTTPS request is being made to host 'www.cnbc.com'. Adding certificate verification is strongly advised. See: https://urllib3.readthedocs.io/en/latest/advanced-usage.html#tls-warnings\n",
      "  warnings.warn(\n"
     ]
    },
    {
     "name": "stdout",
     "output_type": "stream",
     "text": [
      "https://www.cnbc.com/2024/06/11/cnbc-daily-open-musk-threatens-apple-ban.html\n"
     ]
    },
    {
     "name": "stderr",
     "output_type": "stream",
     "text": [
      "C:\\Users\\405311\\AppData\\Roaming\\Python\\Python311\\site-packages\\urllib3\\connectionpool.py:1099: InsecureRequestWarning: Unverified HTTPS request is being made to host 'www.cnbc.com'. Adding certificate verification is strongly advised. See: https://urllib3.readthedocs.io/en/latest/advanced-usage.html#tls-warnings\n",
      "  warnings.warn(\n"
     ]
    },
    {
     "name": "stdout",
     "output_type": "stream",
     "text": [
      "https://www.cnbc.com/2024/06/11/cnbc-daily-open-sp-and-nasdaq-hit-record-highs.html\n"
     ]
    },
    {
     "name": "stderr",
     "output_type": "stream",
     "text": [
      "C:\\Users\\405311\\AppData\\Roaming\\Python\\Python311\\site-packages\\urllib3\\connectionpool.py:1099: InsecureRequestWarning: Unverified HTTPS request is being made to host 'www.cnbc.com'. Adding certificate verification is strongly advised. See: https://urllib3.readthedocs.io/en/latest/advanced-usage.html#tls-warnings\n",
      "  warnings.warn(\n"
     ]
    },
    {
     "name": "stdout",
     "output_type": "stream",
     "text": [
      "https://www.cnbc.com/2024/06/10/us-treasurys-investors-look-to-fed-meeting-inflation-data.html\n"
     ]
    },
    {
     "name": "stderr",
     "output_type": "stream",
     "text": [
      "C:\\Users\\405311\\AppData\\Roaming\\Python\\Python311\\site-packages\\urllib3\\connectionpool.py:1099: InsecureRequestWarning: Unverified HTTPS request is being made to host 'www.cnbc.com'. Adding certificate verification is strongly advised. See: https://urllib3.readthedocs.io/en/latest/advanced-usage.html#tls-warnings\n",
      "  warnings.warn(\n"
     ]
    },
    {
     "name": "stdout",
     "output_type": "stream",
     "text": [
      "https://www.cnbc.com/2024/06/10/cnbc-daily-open-far-right-gains-in-eu-elections.html\n"
     ]
    },
    {
     "name": "stderr",
     "output_type": "stream",
     "text": [
      "C:\\Users\\405311\\AppData\\Roaming\\Python\\Python311\\site-packages\\urllib3\\connectionpool.py:1099: InsecureRequestWarning: Unverified HTTPS request is being made to host 'www.cnbc.com'. Adding certificate verification is strongly advised. See: https://urllib3.readthedocs.io/en/latest/advanced-usage.html#tls-warnings\n",
      "  warnings.warn(\n"
     ]
    },
    {
     "name": "stdout",
     "output_type": "stream",
     "text": [
      "https://www.cnbc.com/2024/06/10/cnbc-daily-open-far-right-makes-gains-in-eu-elections.html\n"
     ]
    },
    {
     "name": "stderr",
     "output_type": "stream",
     "text": [
      "C:\\Users\\405311\\AppData\\Roaming\\Python\\Python311\\site-packages\\urllib3\\connectionpool.py:1099: InsecureRequestWarning: Unverified HTTPS request is being made to host 'www.cnbc.com'. Adding certificate verification is strongly advised. See: https://urllib3.readthedocs.io/en/latest/advanced-usage.html#tls-warnings\n",
      "  warnings.warn(\n"
     ]
    },
    {
     "name": "stdout",
     "output_type": "stream",
     "text": [
      "https://www.cnbc.com/2024/06/07/jobs-report-may-2024-us-job-gains-totaled-272000-in-may.html\n"
     ]
    },
    {
     "name": "stderr",
     "output_type": "stream",
     "text": [
      "C:\\Users\\405311\\AppData\\Roaming\\Python\\Python311\\site-packages\\urllib3\\connectionpool.py:1099: InsecureRequestWarning: Unverified HTTPS request is being made to host 'www.cnbc.com'. Adding certificate verification is strongly advised. See: https://urllib3.readthedocs.io/en/latest/advanced-usage.html#tls-warnings\n",
      "  warnings.warn(\n"
     ]
    },
    {
     "name": "stdout",
     "output_type": "stream",
     "text": [
      "https://www.cnbc.com/2024/06/07/cnbc-daily-open-roaring-kitty-youtube-live-advisory-group-against-musks-56-billion-pay.html\n"
     ]
    },
    {
     "name": "stderr",
     "output_type": "stream",
     "text": [
      "C:\\Users\\405311\\AppData\\Roaming\\Python\\Python311\\site-packages\\urllib3\\connectionpool.py:1099: InsecureRequestWarning: Unverified HTTPS request is being made to host 'www.cnbc.com'. Adding certificate verification is strongly advised. See: https://urllib3.readthedocs.io/en/latest/advanced-usage.html#tls-warnings\n",
      "  warnings.warn(\n"
     ]
    },
    {
     "name": "stdout",
     "output_type": "stream",
     "text": [
      "https://www.cnbc.com/2024/06/07/us-treasurys-ahead-of-may-jobs-report.html\n"
     ]
    },
    {
     "name": "stderr",
     "output_type": "stream",
     "text": [
      "C:\\Users\\405311\\AppData\\Roaming\\Python\\Python311\\site-packages\\urllib3\\connectionpool.py:1099: InsecureRequestWarning: Unverified HTTPS request is being made to host 'www.cnbc.com'. Adding certificate verification is strongly advised. See: https://urllib3.readthedocs.io/en/latest/advanced-usage.html#tls-warnings\n",
      "  warnings.warn(\n"
     ]
    },
    {
     "name": "stdout",
     "output_type": "stream",
     "text": [
      "https://www.cnbc.com/2024/06/07/cnbc-daily-open-roaring-kitty-youtube-live.html\n"
     ]
    },
    {
     "name": "stderr",
     "output_type": "stream",
     "text": [
      "C:\\Users\\405311\\AppData\\Roaming\\Python\\Python311\\site-packages\\urllib3\\connectionpool.py:1099: InsecureRequestWarning: Unverified HTTPS request is being made to host 'www.cnbc.com'. Adding certificate verification is strongly advised. See: https://urllib3.readthedocs.io/en/latest/advanced-usage.html#tls-warnings\n",
      "  warnings.warn(\n"
     ]
    },
    {
     "name": "stdout",
     "output_type": "stream",
     "text": [
      "https://www.cnbc.com/2024/06/06/us-treasurys-investors-weigh-economic-data-interest-rate-outlook.html\n"
     ]
    },
    {
     "name": "stderr",
     "output_type": "stream",
     "text": [
      "C:\\Users\\405311\\AppData\\Roaming\\Python\\Python311\\site-packages\\urllib3\\connectionpool.py:1099: InsecureRequestWarning: Unverified HTTPS request is being made to host 'www.cnbc.com'. Adding certificate verification is strongly advised. See: https://urllib3.readthedocs.io/en/latest/advanced-usage.html#tls-warnings\n",
      "  warnings.warn(\n"
     ]
    },
    {
     "name": "stdout",
     "output_type": "stream",
     "text": [
      "https://www.cnbc.com/2024/06/05/us-treasurys-investors-weigh-economic-data.html\n"
     ]
    },
    {
     "name": "stderr",
     "output_type": "stream",
     "text": [
      "C:\\Users\\405311\\AppData\\Roaming\\Python\\Python311\\site-packages\\urllib3\\connectionpool.py:1099: InsecureRequestWarning: Unverified HTTPS request is being made to host 'www.cnbc.com'. Adding certificate verification is strongly advised. See: https://urllib3.readthedocs.io/en/latest/advanced-usage.html#tls-warnings\n",
      "  warnings.warn(\n"
     ]
    },
    {
     "name": "stdout",
     "output_type": "stream",
     "text": [
      "https://www.cnbc.com/2024/06/05/cnbc-daily-open-roaring-kittys-wealth-modis-victory.html\n"
     ]
    },
    {
     "name": "stderr",
     "output_type": "stream",
     "text": [
      "C:\\Users\\405311\\AppData\\Roaming\\Python\\Python311\\site-packages\\urllib3\\connectionpool.py:1099: InsecureRequestWarning: Unverified HTTPS request is being made to host 'www.cnbc.com'. Adding certificate verification is strongly advised. See: https://urllib3.readthedocs.io/en/latest/advanced-usage.html#tls-warnings\n",
      "  warnings.warn(\n"
     ]
    },
    {
     "name": "stdout",
     "output_type": "stream",
     "text": [
      "https://www.cnbc.com/2024/06/04/us-treasurys-as-investors-weigh-state-of-the-economy.html\n"
     ]
    },
    {
     "name": "stderr",
     "output_type": "stream",
     "text": [
      "C:\\Users\\405311\\AppData\\Roaming\\Python\\Python311\\site-packages\\urllib3\\connectionpool.py:1099: InsecureRequestWarning: Unverified HTTPS request is being made to host 'www.cnbc.com'. Adding certificate verification is strongly advised. See: https://urllib3.readthedocs.io/en/latest/advanced-usage.html#tls-warnings\n",
      "  warnings.warn(\n"
     ]
    },
    {
     "name": "stdout",
     "output_type": "stream",
     "text": [
      "https://www.cnbc.com/2024/06/03/us-treasurys-investors-look-to-key-jobs-data-in-week-ahead.html\n"
     ]
    },
    {
     "name": "stderr",
     "output_type": "stream",
     "text": [
      "C:\\Users\\405311\\AppData\\Roaming\\Python\\Python311\\site-packages\\urllib3\\connectionpool.py:1099: InsecureRequestWarning: Unverified HTTPS request is being made to host 'www.cnbc.com'. Adding certificate verification is strongly advised. See: https://urllib3.readthedocs.io/en/latest/advanced-usage.html#tls-warnings\n",
      "  warnings.warn(\n"
     ]
    },
    {
     "name": "stdout",
     "output_type": "stream",
     "text": [
      "https://www.cnbc.com/2024/05/31/us-treasurys-ahead-of-april-pce-inflation-data.html\n"
     ]
    },
    {
     "name": "stderr",
     "output_type": "stream",
     "text": [
      "C:\\Users\\405311\\AppData\\Roaming\\Python\\Python311\\site-packages\\urllib3\\connectionpool.py:1099: InsecureRequestWarning: Unverified HTTPS request is being made to host 'www.cnbc.com'. Adding certificate verification is strongly advised. See: https://urllib3.readthedocs.io/en/latest/advanced-usage.html#tls-warnings\n",
      "  warnings.warn(\n"
     ]
    },
    {
     "name": "stdout",
     "output_type": "stream",
     "text": [
      "https://www.cnbc.com/2024/05/31/cnbc-daily-open-trump-guilty-in-hush-money-trial.html\n"
     ]
    },
    {
     "name": "stderr",
     "output_type": "stream",
     "text": [
      "C:\\Users\\405311\\AppData\\Roaming\\Python\\Python311\\site-packages\\urllib3\\connectionpool.py:1099: InsecureRequestWarning: Unverified HTTPS request is being made to host 'www.cnbc.com'. Adding certificate verification is strongly advised. See: https://urllib3.readthedocs.io/en/latest/advanced-usage.html#tls-warnings\n",
      "  warnings.warn(\n"
     ]
    },
    {
     "name": "stdout",
     "output_type": "stream",
     "text": [
      "https://www.cnbc.com/2024/05/30/us-treasurys-as-investors-look-to-key-data.html\n"
     ]
    },
    {
     "name": "stderr",
     "output_type": "stream",
     "text": [
      "C:\\Users\\405311\\AppData\\Roaming\\Python\\Python311\\site-packages\\urllib3\\connectionpool.py:1099: InsecureRequestWarning: Unverified HTTPS request is being made to host 'www.cnbc.com'. Adding certificate verification is strongly advised. See: https://urllib3.readthedocs.io/en/latest/advanced-usage.html#tls-warnings\n",
      "  warnings.warn(\n"
     ]
    },
    {
     "name": "stdout",
     "output_type": "stream",
     "text": [
      "https://www.cnbc.com/2024/05/29/us-treasurys-investors-weigh-state-of-economy.html\n"
     ]
    },
    {
     "name": "stderr",
     "output_type": "stream",
     "text": [
      "C:\\Users\\405311\\AppData\\Roaming\\Python\\Python311\\site-packages\\urllib3\\connectionpool.py:1099: InsecureRequestWarning: Unverified HTTPS request is being made to host 'www.cnbc.com'. Adding certificate verification is strongly advised. See: https://urllib3.readthedocs.io/en/latest/advanced-usage.html#tls-warnings\n",
      "  warnings.warn(\n"
     ]
    },
    {
     "name": "stdout",
     "output_type": "stream",
     "text": [
      "https://www.cnbc.com/2024/05/22/us-treasurys-investors-weigh-fed-speaker-comments.html\n"
     ]
    },
    {
     "name": "stderr",
     "output_type": "stream",
     "text": [
      "C:\\Users\\405311\\AppData\\Roaming\\Python\\Python311\\site-packages\\urllib3\\connectionpool.py:1099: InsecureRequestWarning: Unverified HTTPS request is being made to host 'www.cnbc.com'. Adding certificate verification is strongly advised. See: https://urllib3.readthedocs.io/en/latest/advanced-usage.html#tls-warnings\n",
      "  warnings.warn(\n"
     ]
    },
    {
     "name": "stdout",
     "output_type": "stream",
     "text": [
      "https://www.cnbc.com/2024/05/21/us-treasury-yields-investors-weigh-inflation-interest-rate-outlook.html\n"
     ]
    },
    {
     "name": "stderr",
     "output_type": "stream",
     "text": [
      "C:\\Users\\405311\\AppData\\Roaming\\Python\\Python311\\site-packages\\urllib3\\connectionpool.py:1099: InsecureRequestWarning: Unverified HTTPS request is being made to host 'www.cnbc.com'. Adding certificate verification is strongly advised. See: https://urllib3.readthedocs.io/en/latest/advanced-usage.html#tls-warnings\n",
      "  warnings.warn(\n"
     ]
    },
    {
     "name": "stdout",
     "output_type": "stream",
     "text": [
      "https://www.cnbc.com/2024/05/20/us-treasurys-investors-look-to-data-fed-comments-in-week-ahead.html\n"
     ]
    },
    {
     "name": "stderr",
     "output_type": "stream",
     "text": [
      "C:\\Users\\405311\\AppData\\Roaming\\Python\\Python311\\site-packages\\urllib3\\connectionpool.py:1099: InsecureRequestWarning: Unverified HTTPS request is being made to host 'www.cnbc.com'. Adding certificate verification is strongly advised. See: https://urllib3.readthedocs.io/en/latest/advanced-usage.html#tls-warnings\n",
      "  warnings.warn(\n"
     ]
    },
    {
     "name": "stdout",
     "output_type": "stream",
     "text": [
      "https://www.cnbc.com/2024/05/19/soaring-debt-and-deficits-causing-worry-about-threats-to-the-economy-and-markets.html\n"
     ]
    },
    {
     "name": "stderr",
     "output_type": "stream",
     "text": [
      "C:\\Users\\405311\\AppData\\Roaming\\Python\\Python311\\site-packages\\urllib3\\connectionpool.py:1099: InsecureRequestWarning: Unverified HTTPS request is being made to host 'www.cnbc.com'. Adding certificate verification is strongly advised. See: https://urllib3.readthedocs.io/en/latest/advanced-usage.html#tls-warnings\n",
      "  warnings.warn(\n"
     ]
    },
    {
     "data": {
      "text/html": [
       "<div>\n",
       "<style scoped>\n",
       "    .dataframe tbody tr th:only-of-type {\n",
       "        vertical-align: middle;\n",
       "    }\n",
       "\n",
       "    .dataframe tbody tr th {\n",
       "        vertical-align: top;\n",
       "    }\n",
       "\n",
       "    .dataframe thead th {\n",
       "        text-align: right;\n",
       "    }\n",
       "</style>\n",
       "<table border=\"1\" class=\"dataframe\">\n",
       "  <thead>\n",
       "    <tr style=\"text-align: right;\">\n",
       "      <th></th>\n",
       "      <th>DateTime</th>\n",
       "      <th>URL</th>\n",
       "      <th>News_Content</th>\n",
       "    </tr>\n",
       "  </thead>\n",
       "  <tbody>\n",
       "    <tr>\n",
       "      <th>0</th>\n",
       "      <td>2024-06-18T16:11:04+0000</td>\n",
       "      <td>https://www.cnbc.com/2024/06/18/treasury-yield...</td>\n",
       "      <td>U.S. Treasury bond yields fell on Tuesday afte...</td>\n",
       "    </tr>\n",
       "    <tr>\n",
       "      <th>1</th>\n",
       "      <td>2024-06-17T16:12:32+0000</td>\n",
       "      <td>https://www.cnbc.com/2024/06/17/us-treasury-bo...</td>\n",
       "      <td>U.S. Treasury bond yields rose Monday, followi...</td>\n",
       "    </tr>\n",
       "    <tr>\n",
       "      <th>2</th>\n",
       "      <td>2024-06-14T16:00:43+0000</td>\n",
       "      <td>https://www.cnbc.com/2024/06/14/10-year-treasu...</td>\n",
       "      <td>The benchmark 10-year Treasury note yield fell...</td>\n",
       "    </tr>\n",
       "    <tr>\n",
       "      <th>3</th>\n",
       "      <td>2024-06-13T14:43:30+0000</td>\n",
       "      <td>https://www.cnbc.com/2024/06/13/us-treasury-yi...</td>\n",
       "      <td>U.S. Treasury yields slipped once again on Thu...</td>\n",
       "    </tr>\n",
       "    <tr>\n",
       "      <th>4</th>\n",
       "      <td>2024-06-12T17:58:14+0000</td>\n",
       "      <td>https://www.cnbc.com/2024/06/12/us-treasury-yi...</td>\n",
       "      <td>U.S. Treasury yields fell Wednesday after the ...</td>\n",
       "    </tr>\n",
       "    <tr>\n",
       "      <th>5</th>\n",
       "      <td>2024-06-11T16:00:08+0000</td>\n",
       "      <td>https://www.cnbc.com/2024/06/11/us-treasury-yi...</td>\n",
       "      <td>Treasury yields slipped on Tuesday as the Fede...</td>\n",
       "    </tr>\n",
       "    <tr>\n",
       "      <th>6</th>\n",
       "      <td>2024-06-11T02:11:55+0000</td>\n",
       "      <td>https://www.cnbc.com/2024/06/11/cnbc-daily-ope...</td>\n",
       "      <td>This report is from today's CNBC Daily Open, o...</td>\n",
       "    </tr>\n",
       "    <tr>\n",
       "      <th>7</th>\n",
       "      <td>2024-06-10T21:42:11+0000</td>\n",
       "      <td>https://www.cnbc.com/2024/06/11/cnbc-daily-ope...</td>\n",
       "      <td>This report is from today's CNBC Daily Open, o...</td>\n",
       "    </tr>\n",
       "    <tr>\n",
       "      <th>8</th>\n",
       "      <td>2024-06-10T15:58:28+0000</td>\n",
       "      <td>https://www.cnbc.com/2024/06/10/us-treasurys-i...</td>\n",
       "      <td>U.S. Treasury yields were higher on Monday as ...</td>\n",
       "    </tr>\n",
       "    <tr>\n",
       "      <th>9</th>\n",
       "      <td>2024-06-10T02:10:40+0000</td>\n",
       "      <td>https://www.cnbc.com/2024/06/10/cnbc-daily-ope...</td>\n",
       "      <td>This report is from today's CNBC Daily Open, o...</td>\n",
       "    </tr>\n",
       "    <tr>\n",
       "      <th>10</th>\n",
       "      <td>2024-06-09T21:31:05+0000</td>\n",
       "      <td>https://www.cnbc.com/2024/06/10/cnbc-daily-ope...</td>\n",
       "      <td>This report is from today's CNBC Daily Open, o...</td>\n",
       "    </tr>\n",
       "    <tr>\n",
       "      <th>11</th>\n",
       "      <td>2024-06-07T09:39:36+0000</td>\n",
       "      <td>https://www.cnbc.com/2024/06/07/jobs-report-ma...</td>\n",
       "      <td>Nonfarm payrolls expanded by 272,000 for the m...</td>\n",
       "    </tr>\n",
       "    <tr>\n",
       "      <th>12</th>\n",
       "      <td>2024-06-07T03:27:31+0000</td>\n",
       "      <td>https://www.cnbc.com/2024/06/07/cnbc-daily-ope...</td>\n",
       "      <td>This report is from today's CNBC Daily Open, o...</td>\n",
       "    </tr>\n",
       "    <tr>\n",
       "      <th>13</th>\n",
       "      <td>2024-06-07T16:14:42+0000</td>\n",
       "      <td>https://www.cnbc.com/2024/06/07/us-treasurys-a...</td>\n",
       "      <td>The yield on the 10-year Treasury surged Frida...</td>\n",
       "    </tr>\n",
       "    <tr>\n",
       "      <th>14</th>\n",
       "      <td>2024-06-06T20:51:52+0000</td>\n",
       "      <td>https://www.cnbc.com/2024/06/07/cnbc-daily-ope...</td>\n",
       "      <td>This report is from today's CNBC Daily Open, o...</td>\n",
       "    </tr>\n",
       "    <tr>\n",
       "      <th>15</th>\n",
       "      <td>2024-06-06T16:01:50+0000</td>\n",
       "      <td>https://www.cnbc.com/2024/06/06/us-treasurys-i...</td>\n",
       "      <td>U.S. Treasury yields were little changed Thurs...</td>\n",
       "    </tr>\n",
       "    <tr>\n",
       "      <th>16</th>\n",
       "      <td>2024-06-05T17:12:43+0000</td>\n",
       "      <td>https://www.cnbc.com/2024/06/05/us-treasurys-i...</td>\n",
       "      <td>Treasury yields slipped Wednesday as investors...</td>\n",
       "    </tr>\n",
       "    <tr>\n",
       "      <th>17</th>\n",
       "      <td>2024-06-04T21:55:52+0000</td>\n",
       "      <td>https://www.cnbc.com/2024/06/05/cnbc-daily-ope...</td>\n",
       "      <td>This report is from today's CNBC Daily Open, o...</td>\n",
       "    </tr>\n",
       "    <tr>\n",
       "      <th>18</th>\n",
       "      <td>2024-06-04T16:09:47+0000</td>\n",
       "      <td>https://www.cnbc.com/2024/06/04/us-treasurys-a...</td>\n",
       "      <td>U.S. Treasury yields slipped on Tuesday as inv...</td>\n",
       "    </tr>\n",
       "    <tr>\n",
       "      <th>19</th>\n",
       "      <td>2024-06-03T16:28:27+0000</td>\n",
       "      <td>https://www.cnbc.com/2024/06/03/us-treasurys-i...</td>\n",
       "      <td>U.S. Treasury yields fell on Monday as investo...</td>\n",
       "    </tr>\n",
       "    <tr>\n",
       "      <th>20</th>\n",
       "      <td>2024-05-31T16:20:33+0000</td>\n",
       "      <td>https://www.cnbc.com/2024/05/31/us-treasurys-a...</td>\n",
       "      <td>U.S. Treasury yields retreated on Friday after...</td>\n",
       "    </tr>\n",
       "    <tr>\n",
       "      <th>21</th>\n",
       "      <td>2024-05-30T22:25:35+0000</td>\n",
       "      <td>https://www.cnbc.com/2024/05/31/cnbc-daily-ope...</td>\n",
       "      <td>This report is from today's CNBC Daily Open, o...</td>\n",
       "    </tr>\n",
       "    <tr>\n",
       "      <th>22</th>\n",
       "      <td>2024-05-30T16:14:26+0000</td>\n",
       "      <td>https://www.cnbc.com/2024/05/30/us-treasurys-a...</td>\n",
       "      <td>U.S. Treasury yields retreated on Thursday as ...</td>\n",
       "    </tr>\n",
       "    <tr>\n",
       "      <th>23</th>\n",
       "      <td>2024-05-29T16:16:59+0000</td>\n",
       "      <td>https://www.cnbc.com/2024/05/29/us-treasurys-i...</td>\n",
       "      <td>U.S. Treasury yields advanced for another day ...</td>\n",
       "    </tr>\n",
       "    <tr>\n",
       "      <th>24</th>\n",
       "      <td>2024-05-22T16:17:48+0000</td>\n",
       "      <td>https://www.cnbc.com/2024/05/22/us-treasurys-i...</td>\n",
       "      <td>U.S. Treasury yields ticked up Wednesday after...</td>\n",
       "    </tr>\n",
       "    <tr>\n",
       "      <th>25</th>\n",
       "      <td>2024-05-21T16:01:13+0000</td>\n",
       "      <td>https://www.cnbc.com/2024/05/21/us-treasury-yi...</td>\n",
       "      <td>U.S. Treasury yields inched lower on Tuesday a...</td>\n",
       "    </tr>\n",
       "    <tr>\n",
       "      <th>26</th>\n",
       "      <td>2024-05-20T16:34:15+0000</td>\n",
       "      <td>https://www.cnbc.com/2024/05/20/us-treasurys-i...</td>\n",
       "      <td>U.S. Treasury yields ticked higher Monday as i...</td>\n",
       "    </tr>\n",
       "    <tr>\n",
       "      <th>27</th>\n",
       "      <td>2024-05-19T06:50:25+0000</td>\n",
       "      <td>https://www.cnbc.com/2024/05/19/soaring-debt-a...</td>\n",
       "      <td>The federal IOU is now at $34.5 trillion, or a...</td>\n",
       "    </tr>\n",
       "  </tbody>\n",
       "</table>\n",
       "</div>"
      ],
      "text/plain": [
       "                    DateTime  \\\n",
       "0   2024-06-18T16:11:04+0000   \n",
       "1   2024-06-17T16:12:32+0000   \n",
       "2   2024-06-14T16:00:43+0000   \n",
       "3   2024-06-13T14:43:30+0000   \n",
       "4   2024-06-12T17:58:14+0000   \n",
       "5   2024-06-11T16:00:08+0000   \n",
       "6   2024-06-11T02:11:55+0000   \n",
       "7   2024-06-10T21:42:11+0000   \n",
       "8   2024-06-10T15:58:28+0000   \n",
       "9   2024-06-10T02:10:40+0000   \n",
       "10  2024-06-09T21:31:05+0000   \n",
       "11  2024-06-07T09:39:36+0000   \n",
       "12  2024-06-07T03:27:31+0000   \n",
       "13  2024-06-07T16:14:42+0000   \n",
       "14  2024-06-06T20:51:52+0000   \n",
       "15  2024-06-06T16:01:50+0000   \n",
       "16  2024-06-05T17:12:43+0000   \n",
       "17  2024-06-04T21:55:52+0000   \n",
       "18  2024-06-04T16:09:47+0000   \n",
       "19  2024-06-03T16:28:27+0000   \n",
       "20  2024-05-31T16:20:33+0000   \n",
       "21  2024-05-30T22:25:35+0000   \n",
       "22  2024-05-30T16:14:26+0000   \n",
       "23  2024-05-29T16:16:59+0000   \n",
       "24  2024-05-22T16:17:48+0000   \n",
       "25  2024-05-21T16:01:13+0000   \n",
       "26  2024-05-20T16:34:15+0000   \n",
       "27  2024-05-19T06:50:25+0000   \n",
       "\n",
       "                                                  URL  \\\n",
       "0   https://www.cnbc.com/2024/06/18/treasury-yield...   \n",
       "1   https://www.cnbc.com/2024/06/17/us-treasury-bo...   \n",
       "2   https://www.cnbc.com/2024/06/14/10-year-treasu...   \n",
       "3   https://www.cnbc.com/2024/06/13/us-treasury-yi...   \n",
       "4   https://www.cnbc.com/2024/06/12/us-treasury-yi...   \n",
       "5   https://www.cnbc.com/2024/06/11/us-treasury-yi...   \n",
       "6   https://www.cnbc.com/2024/06/11/cnbc-daily-ope...   \n",
       "7   https://www.cnbc.com/2024/06/11/cnbc-daily-ope...   \n",
       "8   https://www.cnbc.com/2024/06/10/us-treasurys-i...   \n",
       "9   https://www.cnbc.com/2024/06/10/cnbc-daily-ope...   \n",
       "10  https://www.cnbc.com/2024/06/10/cnbc-daily-ope...   \n",
       "11  https://www.cnbc.com/2024/06/07/jobs-report-ma...   \n",
       "12  https://www.cnbc.com/2024/06/07/cnbc-daily-ope...   \n",
       "13  https://www.cnbc.com/2024/06/07/us-treasurys-a...   \n",
       "14  https://www.cnbc.com/2024/06/07/cnbc-daily-ope...   \n",
       "15  https://www.cnbc.com/2024/06/06/us-treasurys-i...   \n",
       "16  https://www.cnbc.com/2024/06/05/us-treasurys-i...   \n",
       "17  https://www.cnbc.com/2024/06/05/cnbc-daily-ope...   \n",
       "18  https://www.cnbc.com/2024/06/04/us-treasurys-a...   \n",
       "19  https://www.cnbc.com/2024/06/03/us-treasurys-i...   \n",
       "20  https://www.cnbc.com/2024/05/31/us-treasurys-a...   \n",
       "21  https://www.cnbc.com/2024/05/31/cnbc-daily-ope...   \n",
       "22  https://www.cnbc.com/2024/05/30/us-treasurys-a...   \n",
       "23  https://www.cnbc.com/2024/05/29/us-treasurys-i...   \n",
       "24  https://www.cnbc.com/2024/05/22/us-treasurys-i...   \n",
       "25  https://www.cnbc.com/2024/05/21/us-treasury-yi...   \n",
       "26  https://www.cnbc.com/2024/05/20/us-treasurys-i...   \n",
       "27  https://www.cnbc.com/2024/05/19/soaring-debt-a...   \n",
       "\n",
       "                                         News_Content  \n",
       "0   U.S. Treasury bond yields fell on Tuesday afte...  \n",
       "1   U.S. Treasury bond yields rose Monday, followi...  \n",
       "2   The benchmark 10-year Treasury note yield fell...  \n",
       "3   U.S. Treasury yields slipped once again on Thu...  \n",
       "4   U.S. Treasury yields fell Wednesday after the ...  \n",
       "5   Treasury yields slipped on Tuesday as the Fede...  \n",
       "6   This report is from today's CNBC Daily Open, o...  \n",
       "7   This report is from today's CNBC Daily Open, o...  \n",
       "8   U.S. Treasury yields were higher on Monday as ...  \n",
       "9   This report is from today's CNBC Daily Open, o...  \n",
       "10  This report is from today's CNBC Daily Open, o...  \n",
       "11  Nonfarm payrolls expanded by 272,000 for the m...  \n",
       "12  This report is from today's CNBC Daily Open, o...  \n",
       "13  The yield on the 10-year Treasury surged Frida...  \n",
       "14  This report is from today's CNBC Daily Open, o...  \n",
       "15  U.S. Treasury yields were little changed Thurs...  \n",
       "16  Treasury yields slipped Wednesday as investors...  \n",
       "17  This report is from today's CNBC Daily Open, o...  \n",
       "18  U.S. Treasury yields slipped on Tuesday as inv...  \n",
       "19  U.S. Treasury yields fell on Monday as investo...  \n",
       "20  U.S. Treasury yields retreated on Friday after...  \n",
       "21  This report is from today's CNBC Daily Open, o...  \n",
       "22  U.S. Treasury yields retreated on Thursday as ...  \n",
       "23  U.S. Treasury yields advanced for another day ...  \n",
       "24  U.S. Treasury yields ticked up Wednesday after...  \n",
       "25  U.S. Treasury yields inched lower on Tuesday a...  \n",
       "26  U.S. Treasury yields ticked higher Monday as i...  \n",
       "27  The federal IOU is now at $34.5 trillion, or a...  "
      ]
     },
     "execution_count": 20,
     "metadata": {},
     "output_type": "execute_result"
    }
   ],
   "source": [
    "loop_range = len(df_news)\n",
    "df_news_content = df_news.copy(deep=True)\n",
    "df_news_content['News_Content'] = \"\"\n",
    "for i in range(loop_range):\n",
    "    url = df_news_content.loc[i,'URL']\n",
    "    print(url)\n",
    "    article_content = extract_article_content(url)\n",
    "    df_news_content.loc[i,'News_Content'] = article_content\n",
    "\n",
    "df_news_content"
   ]
  },
  {
   "cell_type": "markdown",
   "metadata": {},
   "source": [
    "### 3. Selenium Method - Finviz Example"
   ]
  },
  {
   "cell_type": "code",
   "execution_count": 1,
   "metadata": {},
   "outputs": [],
   "source": [
    "from selenium import webdriver\n",
    "from selenium.webdriver import Chrome #AC20221221\n",
    "from selenium.webdriver.common.action_chains import ActionChains\n",
    "from selenium.webdriver.common.keys import Keys\n",
    "from selenium.webdriver.common.by import By\n",
    "from selenium.webdriver.support.ui import WebDriverWait\n",
    "from selenium.webdriver.support import expected_conditions as EC\n",
    "from selenium.webdriver.common.alert import Alert #RT20221214\n",
    "from selenium.webdriver.chrome.service import Service\n",
    "import logging\n",
    "from PIL import Image\n",
    "import io\n",
    "from time import sleep\n",
    "import pandas as pd\n",
    "import os\n",
    "import traceback"
   ]
  },
  {
   "cell_type": "code",
   "execution_count": 27,
   "metadata": {},
   "outputs": [],
   "source": [
    "driver = webdriver.Chrome()\n",
    "url = 'https://finviz.com/screener.ashx'\n",
    "driver.get(url)\n",
    "\n",
    "button_sector = driver.find_element(By.ID,'fs_sec')\n",
    "button_sector.click()\n",
    "select_finance_sec = driver.find_element(By.XPATH,'//*[@id=\"fs_sec\"]/option[7]')\n",
    "select_finance_sec.click()\n",
    "\n",
    "button_index= driver.find_element(By.ID,'fs_idx')\n",
    "button_index.click()\n",
    "select_spx = driver.find_element(By.XPATH,'//*[@id=\"fs_idx\"]/option[2]')\n",
    "select_spx.click()\n",
    "\n",
    "button_index= driver.find_element(By.ID,'fs_cap')\n",
    "button_index.click()\n",
    "select_marketcap= driver.find_element(By.XPATH,'//*[@id=\"fs_cap\"]/option[8]')\n",
    "select_marketcap.click()\n",
    "\n",
    "button_index= driver.find_element(By.ID,'fs_sh_avgvol')\n",
    "button_index.click()\n",
    "select_sh_avgvol = driver.find_element(By.XPATH,'//*[@id=\"fs_sh_avgvol\"]/option[14]')\n",
    "select_sh_avgvol.click()\n",
    "\n",
    "select_marketcap_order = driver.find_element(By.XPATH,'//*[@id=\"screener-table\"]/td/table/tbody/tr/td/table/thead/tr/th[7]')\n",
    "select_marketcap_order.click()\n",
    "select_marketcap_desc_order = driver.find_element(By.XPATH,'//*[@id=\"orderDirSelect\"]')\n",
    "select_marketcap_desc_order.click()\n",
    "select_marketcap_desc_order = driver.find_element(By.XPATH,'//*[@id=\"orderDirSelect\"]/option[2]')\n",
    "select_marketcap_desc_order.click()\n",
    "\n"
   ]
  },
  {
   "cell_type": "markdown",
   "metadata": {},
   "source": [
    "### 4. Review of ChinaBond Yield Webscraping Methods"
   ]
  },
  {
   "cell_type": "markdown",
   "metadata": {},
   "source": [
    "##### Original Approach: Selenium Method (Replicate all manual actions in webdriver)"
   ]
  },
  {
   "cell_type": "code",
   "execution_count": 3,
   "metadata": {},
   "outputs": [],
   "source": [
    "def get_single_data(table, results, screen,date):  #change from table to driver\n",
    "    td_elements = table.find_elements(By.XPATH,\"//tr[@id='tr0']/td\")\n",
    "\n",
    "    #AC: All td_elements are looped (only 2 elements out of 12 elements are used)\n",
    "    for td in td_elements:\n",
    "        if td.get_attribute('id') == \"dcq0\":\n",
    "            maturity = td.get_attribute('innerHTML')\n",
    "        elif td.get_attribute('id') == \"syl0\":\n",
    "            yield_pc = td.get_attribute('innerHTML')\n",
    "    data = (float(maturity), float(yield_pc),date)\n",
    "    if data not in results:\n",
    "        results.append(data)"
   ]
  },
  {
   "cell_type": "code",
   "execution_count": 4,
   "metadata": {},
   "outputs": [
    {
     "name": "stdout",
     "output_type": "stream",
     "text": [
      "[(0.0, 1.3886, ['2024', '5', '31']), (1.0, 1.6383, ['2024', '5', '31']), (2.0, 1.8004, ['2024', '5', '31']), (3.0, 1.94, ['2024', '5', '31']), (4.0, 2.0285, ['2024', '5', '31']), (5.0, 2.0925, ['2024', '5', '31']), (6.0, 2.1918, ['2024', '5', '31']), (7.0, 2.2705, ['2024', '5', '31']), (8.0, 2.3035, ['2024', '5', '31']), (9.0, 2.3139, ['2024', '5', '31']), (10.0, 2.3212, ['2024', '5', '31']), (11.0, 2.3386, ['2024', '5', '31']), (12.0, 2.3637, ['2024', '5', '31']), (13.0, 2.3934, ['2024', '5', '31']), (14.0, 2.4247, ['2024', '5', '31']), (15.0, 2.454, ['2024', '5', '31']), (16.0, 2.4771, ['2024', '5', '31']), (17.0, 2.4936, ['2024', '5', '31']), (18.0, 2.5064, ['2024', '5', '31']), (19.0, 2.5185, ['2024', '5', '31']), (20.0, 2.533, ['2024', '5', '31']), (21.0, 2.548, ['2024', '5', '31']), (22.0, 2.5604, ['2024', '5', '31']), (23.0, 2.5706, ['2024', '5', '31']), (24.0, 2.579, ['2024', '5', '31']), (25.0, 2.5862, ['2024', '5', '31']), (26.0, 2.5927, ['2024', '5', '31']), (27.0, 2.5989, ['2024', '5', '31']), (28.0, 2.6056, ['2024', '5', '31']), (29.0, 2.6131, ['2024', '5', '31']), (30.0, 2.6223, ['2024', '5', '31']), (31.0, 2.6333, ['2024', '5', '31']), (32.0, 2.6457, ['2024', '5', '31']), (33.0, 2.6591, ['2024', '5', '31']), (34.0, 2.6728, ['2024', '5', '31']), (35.0, 2.6862, ['2024', '5', '31']), (36.0, 2.6987, ['2024', '5', '31']), (37.0, 2.7096, ['2024', '5', '31']), (38.0, 2.7181, ['2024', '5', '31']), (39.0, 2.7235, ['2024', '5', '31']), (40.0, 2.7251, ['2024', '5', '31']), (41.0, 2.7244, ['2024', '5', '31']), (42.0, 2.7235, ['2024', '5', '31']), (43.0, 2.7225, ['2024', '5', '31']), (44.0, 2.7214, ['2024', '5', '31']), (45.0, 2.7201, ['2024', '5', '31']), (46.0, 2.7189, ['2024', '5', '31']), (47.0, 2.7175, ['2024', '5', '31']), (48.0, 2.7162, ['2024', '5', '31']), (49.0, 2.7148, ['2024', '5', '31']), (50.0, 2.7135, ['2024', '5', '31'])]\n"
     ]
    }
   ],
   "source": [
    "driver = webdriver.Chrome()\n",
    "url = 'https://yield.chinabond.com.cn/cbweb-mn/yield_main?locale=en_US'\n",
    "driver.get(url)\n",
    "\n",
    "# Buttons Selection\n",
    "button = driver.find_element(By.XPATH,'//*[@id=\"txy\"]/div[2]/div/div[1]')\n",
    "button.click()\n",
    "button = driver.find_element(By.XPATH,'//*[@id=\"txy\"]/div[2]/div/div[2]/ul/li[1]/input')\n",
    "button.click()\n",
    "button = driver.find_element(By.XPATH,'//*[@id=\"txy\"]/div[2]/div/div[2]/ul/li[2]/input')\n",
    "button.click()\n",
    "\n",
    "# Format Date\n",
    "date_img = driver.find_element(By.XPATH,'//*[@id=\"img_date\"]')\n",
    "date_img.click()\n",
    "date_str='2024-05-31'\n",
    "date = date_str.split(\"-\")\n",
    "date[1]=str(int(date[1]))\n",
    "date[2]=str(int(date[2]))\n",
    "date_xpath = \",\".join(date)\n",
    "\n",
    "# Set Month and Year\n",
    "driver.switch_to.frame(driver.find_element(By.TAG_NAME,\"iframe\"))\n",
    "dropdowns = WebDriverWait(driver, 5).until(\n",
    "    EC.visibility_of_all_elements_located((By.XPATH, \"//div[@id='dpTitle']//input[@class='yminput']\"))\n",
    ")\n",
    "dropdowns[1].click()\n",
    "dropdowns[1].send_keys(Keys.BACKSPACE)\n",
    "dropdowns[1].send_keys(Keys.BACKSPACE)\n",
    "dropdowns[1].send_keys(date[0])\n",
    "dropdowns[0].click()\n",
    "dropdowns[0].click()\n",
    "dropdowns[0].send_keys(Keys.BACKSPACE)\n",
    "dropdowns[0].send_keys(Keys.BACKSPACE)\n",
    "dropdowns[0].send_keys(Keys.BACKSPACE)\n",
    "dropdowns[0].send_keys(Keys.BACKSPACE)\n",
    "dropdowns[0].send_keys(date[1])\n",
    "dropdowns[1].click()\n",
    "dropdowns[0].click()\n",
    "# Set Date\n",
    "clock = driver.find_element(By.XPATH,\"//div[@class='WdateDiv']//div[@id='dpQS']\")\n",
    "clock.click()\n",
    "clock.click()\n",
    "date_element = driver.find_element(By.XPATH,f\"//table[@class='WdayTable']//td[@onclick='day_Click({date_xpath});']\")\n",
    "date_element.click()\n",
    "driver.switch_to.default_content()\n",
    "\n",
    "search_button = driver.find_element(By.XPATH,\"//div[@style='height: 23px;']//button[contains(text(), 'Search')]\")\n",
    "search_button.click()\n",
    "\n",
    "\n",
    "num_year = 51\n",
    "maturity_yr = num_year\n",
    "results = []\n",
    "\"\"\"--------------------------------------- I. SET UP BEFORE DATA EXTRACTION ---------------------------------------------------\"\"\"\n",
    "screen = driver.find_element(By.XPATH,\"//div[@id='main']\")\n",
    "actions = ActionChains(driver)\n",
    "actions.move_to_element(screen).perform()\n",
    "table = driver.find_element(By.XPATH,\"//div[@id='dataTable']//table[@id='table1']\")\n",
    "results = [] # The results list store all matruity yield data for a specific time point.\n",
    "\n",
    "graph = driver.find_element(By.XPATH,\"//div[@id='container']//*[name()='svg']\")\n",
    "# logger.info(f\"Graph size is {graph.size}\")\n",
    "y = int(graph.size['height'] / 2)\n",
    "get_single_data(table, results, screen,date)\n",
    "action = ActionChains(driver)\n",
    "action.move_to_element_with_offset(graph, 56, y).click()\n",
    "\n",
    "\"\"\"--------------------------------------- II. DATA EXTRACTION CONTROL ---------------------------------------------------\"\"\"\n",
    "#Hover Screen and Extract Data\n",
    "while len(results) < num_year:  \n",
    "    action = ActionChains(driver)\n",
    "    action.key_down(Keys.ARROW_RIGHT).key_up(Keys.ARROW_RIGHT).perform()\n",
    "    if maturity_yr<len(results)-1:  \n",
    "        break\n",
    "    \n",
    "    get_single_data(table, results, screen,date)\n",
    "\n",
    "print(results)"
   ]
  },
  {
   "cell_type": "markdown",
   "metadata": {},
   "source": [
    "##### New Approach: Request Method (Interact with JSON API)"
   ]
  },
  {
   "cell_type": "code",
   "execution_count": 5,
   "metadata": {},
   "outputs": [],
   "source": [
    "import pandas as pd\n",
    "import os, time\n",
    "import requests"
   ]
  },
  {
   "cell_type": "code",
   "execution_count": 7,
   "metadata": {},
   "outputs": [
    {
     "name": "stdout",
     "output_type": "stream",
     "text": [
      "         0       1\n",
      "0      0.0  1.3886\n",
      "20     1.0  1.6383\n",
      "40     2.0  1.8004\n",
      "60     3.0  1.9400\n",
      "80     4.0  2.0285\n",
      "100    5.0  2.0925\n",
      "120    6.0  2.1918\n",
      "140    7.0  2.2705\n",
      "160    8.0  2.3035\n",
      "180    9.0  2.3139\n",
      "200   10.0  2.3212\n",
      "220   11.0  2.3386\n",
      "240   12.0  2.3637\n",
      "260   13.0  2.3934\n",
      "280   14.0  2.4247\n",
      "300   15.0  2.4540\n",
      "320   16.0  2.4771\n",
      "340   17.0  2.4936\n",
      "360   18.0  2.5064\n",
      "380   19.0  2.5185\n",
      "400   20.0  2.5330\n",
      "420   21.0  2.5480\n",
      "440   22.0  2.5604\n",
      "460   23.0  2.5706\n",
      "480   24.0  2.5790\n",
      "500   25.0  2.5862\n",
      "520   26.0  2.5927\n",
      "540   27.0  2.5989\n",
      "560   28.0  2.6056\n",
      "580   29.0  2.6131\n",
      "600   30.0  2.6223\n",
      "620   31.0  2.6333\n",
      "640   32.0  2.6457\n",
      "660   33.0  2.6591\n",
      "680   34.0  2.6728\n",
      "700   35.0  2.6862\n",
      "720   36.0  2.6987\n",
      "740   37.0  2.7096\n",
      "760   38.0  2.7181\n",
      "780   39.0  2.7235\n",
      "800   40.0  2.7251\n",
      "820   41.0  2.7244\n",
      "840   42.0  2.7235\n",
      "860   43.0  2.7225\n",
      "880   44.0  2.7214\n",
      "900   45.0  2.7201\n",
      "920   46.0  2.7189\n",
      "940   47.0  2.7175\n",
      "960   48.0  2.7162\n",
      "980   49.0  2.7148\n",
      "1000  50.0  2.7135\n"
     ]
    }
   ],
   "source": [
    "post_URL = 'https://yield.chinabond.com.cn/cbweb-mn/yc/searchYc?xyzSelect=txy&&workTimes=2024-05-31&&dxbj=0&&qxll=1,&&yqqxN=N&&yqqxK=K&&ycDefIds=2c9081e50a2f9606010a3068cae70001,&&wrjxCBFlag=0&&locale=en_US'\n",
    "final_result = []\n",
    "post = requests.post(post_URL)\n",
    "data = post.json()[0]['seriesData']\n",
    "tmp_result = pd.DataFrame(data)[[float(i).is_integer() for i in pd.DataFrame(data).iloc[:, 0]]]\n",
    "\n",
    "print(tmp_result)\n"
   ]
  }
 ],
 "metadata": {
  "kernelspec": {
   "display_name": "Python 3",
   "language": "python",
   "name": "python3"
  },
  "language_info": {
   "codemirror_mode": {
    "name": "ipython",
    "version": 3
   },
   "file_extension": ".py",
   "mimetype": "text/x-python",
   "name": "python",
   "nbconvert_exporter": "python",
   "pygments_lexer": "ipython3",
   "version": "3.11.1"
  }
 },
 "nbformat": 4,
 "nbformat_minor": 2
}
